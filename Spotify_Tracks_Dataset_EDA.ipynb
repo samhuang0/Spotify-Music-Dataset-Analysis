{
 "cells": [
  {
   "cell_type": "markdown",
   "metadata": {
    "papermill": {
     "duration": 0.044491,
     "end_time": "2021-03-29T16:44:21.280488",
     "exception": false,
     "start_time": "2021-03-29T16:44:21.235997",
     "status": "completed"
    },
    "tags": []
   },
   "source": [
    "# 1. Introduction"
   ]
  },
  {
   "cell_type": "markdown",
   "metadata": {
    "papermill": {
     "duration": 0.04057,
     "end_time": "2021-03-29T16:44:21.362234",
     "exception": false,
     "start_time": "2021-03-29T16:44:21.321664",
     "status": "completed"
    },
    "tags": []
   },
   "source": [
    "In this notebook, I visualized music tracks data from the Kaggle Spotify datasets, which contain more than 170 thousand tacks from 30,000 artists over the last 100 years. This notebook has essential data exploration analysis and also tries to find out how music has evolved across the years.<br>\n",
    "\n",
    "As far as I am concerned, the analysis has some limitations:\n",
    "* The scope of Spotify's tracks collection has more records in recent years than in the early 20s-50s.\n",
    "* The popularity score only reflects Spotify users' preference (likely to be relatively young user groups.)\n",
    "* The popularity is scored in the current time. It only shows how people nowadays like old music, not necessarily represent how the classic track's popularity back in the time (a good feature for this will be the record sales for the album).\n",
    "\n",
    "The datasets has the following features and definitions:<br>\n",
    "- __duration_ms:__<br>\n",
    "    The length of the track in milliseconds (ms)\n",
    "- __artists:__<br>\n",
    "    The list of artists credited for the production of the track\n",
    "- __year:__<br>\n",
    "    The release year of track\n",
    "- __key:__<br>\n",
    "    The primary key of the track encoded as integers between 0 and 11\n",
    "- __mode:__<br>\n",
    "    The binary value representing whether the track starts with a major (1) chord progression or not (0)\n",
    "- __release_date:__<br>\n",
    "    The date of release of the track in yyyy-mm-dd, yyyy-mm, or even yyyy format\n",
    "- __acousticness:__<br>\n",
    "    The relative metric of the track being acoustic\n",
    "- __danceability:__<br>\n",
    "    The relative measurement of the track being danceable\n",
    "- __energy:__<br>\n",
    "    The energy of the track\n",
    "- __instrumentalness:__<br>\n",
    "    The relative ratio of the track being instrumental\n",
    "- __liveness:__<br>\n",
    "    The relative duration of the track sounding as a live performance\n",
    "- __loudness:__<br>\n",
    "    Relative loudness of the track in the typical range [-60, 0] in decibel (dB)\n",
    "- __speechiness:__<br>\n",
    "    The relative length of the track containing any kind of human voice\n",
    "- __valence:__<br>\n",
    "    The positiveness of the track\n",
    "- __tempo:__<br>\n",
    "    The tempo of the track in Beat Per Minute (BPM)\n",
    "- __name:__<br>\n",
    "    The title of the track\n",
    "- __popularity:__<br>\n",
    "    The popularity of the song lately, default country = US\n"
   ]
  },
  {
   "cell_type": "markdown",
   "metadata": {},
   "source": [
    "## Import Libraries"
   ]
  },
  {
   "cell_type": "code",
   "execution_count": null,
   "metadata": {
    "execution": {
     "iopub.execute_input": "2021-03-29T16:44:21.538117Z",
     "iopub.status.busy": "2021-03-29T16:44:21.537441Z",
     "iopub.status.idle": "2021-03-29T16:44:22.717343Z",
     "shell.execute_reply": "2021-03-29T16:44:22.717992Z"
    },
    "hide_input": false,
    "papermill": {
     "duration": 1.234742,
     "end_time": "2021-03-29T16:44:22.718343",
     "exception": false,
     "start_time": "2021-03-29T16:44:21.483601",
     "status": "completed"
    },
    "tags": [
     "hidecode",
     "hide_code"
    ]
   },
   "outputs": [],
   "source": [
    "import numpy as np\n",
    "import pandas as pd\n",
    "import seaborn as sns\n",
    "import matplotlib.pyplot as plt\n",
    "from math import pi\n",
    "import warnings\n",
    "warnings.filterwarnings('ignore')\n",
    "from IPython.display import YouTubeVideo\n",
    "from IPython.display import Audio\n",
    "from sklearn.preprocessing import MinMaxScaler\n",
    "from matplotlib.colors import ListedColormap\n",
    "import matplotlib.animation as ani\n",
    "from IPython.display import HTML\n",
    "from matplotlib import animation, rc\n",
    "%matplotlib inline\n",
    "from matplotlib.animation import FuncAnimation, PillowWriter\n",
    "import matplotlib\n",
    "matplotlib.rcParams['animation.embed_limit'] = 2**128\n",
    "import matplotlib.patches as mpatches\n",
    "import os\n",
    "for dirname, _, filenames in os.walk('/kaggle/input'):\n",
    "    for filename in filenames:\n",
    "        print(os.path.join(dirname, filename))"
   ]
  },
  {
   "cell_type": "markdown",
   "metadata": {
    "papermill": {
     "duration": 0.047238,
     "end_time": "2021-03-29T16:44:22.807283",
     "exception": false,
     "start_time": "2021-03-29T16:44:22.760045",
     "status": "completed"
    },
    "tags": []
   },
   "source": [
    "## Import datasets"
   ]
  },
  {
   "cell_type": "markdown",
   "metadata": {
    "papermill": {
     "duration": 0.041144,
     "end_time": "2021-03-29T16:44:22.889203",
     "exception": false,
     "start_time": "2021-03-29T16:44:22.848059",
     "status": "completed"
    },
    "tags": []
   },
   "source": [
    "Kaggle has provided 4 datasets:\n",
    "- data: the main dataset that based on each track\n",
    "- data_by_artist: The average of features group by each artist\n",
    "- data_by_genres: The average of features group by each genres, this is the only dataset that has genres information\n",
    "- data_by_year: The average of features group by each year"
   ]
  },
  {
   "cell_type": "markdown",
   "metadata": {},
   "source": [
    "Dimensions of 'data'"
   ]
  },
  {
   "cell_type": "code",
   "execution_count": null,
   "metadata": {
    "_kg_hide-input": false,
    "execution": {
     "iopub.execute_input": "2021-03-29T16:44:22.978198Z",
     "iopub.status.busy": "2021-03-29T16:44:22.977484Z",
     "iopub.status.idle": "2021-03-29T16:44:24.385270Z",
     "shell.execute_reply": "2021-03-29T16:44:24.384558Z"
    },
    "papermill": {
     "duration": 1.454695,
     "end_time": "2021-03-29T16:44:24.385427",
     "exception": false,
     "start_time": "2021-03-29T16:44:22.930732",
     "status": "completed"
    },
    "tags": []
   },
   "outputs": [],
   "source": [
    "data = pd.read_csv('data.csv')\n",
    "data.shape"
   ]
  },
  {
   "cell_type": "code",
   "execution_count": null,
   "metadata": {
    "execution": {
     "iopub.execute_input": "2021-03-29T16:44:24.480173Z",
     "iopub.status.busy": "2021-03-29T16:44:24.479372Z",
     "iopub.status.idle": "2021-03-29T16:44:24.513995Z",
     "shell.execute_reply": "2021-03-29T16:44:24.513341Z"
    },
    "hide_input": false,
    "papermill": {
     "duration": 0.087623,
     "end_time": "2021-03-29T16:44:24.514152",
     "exception": false,
     "start_time": "2021-03-29T16:44:24.426529",
     "status": "completed"
    },
    "scrolled": false,
    "tags": []
   },
   "outputs": [],
   "source": [
    "data.head()"
   ]
  },
  {
   "cell_type": "markdown",
   "metadata": {
    "papermill": {
     "duration": 0.042191,
     "end_time": "2021-03-29T16:44:24.602219",
     "exception": false,
     "start_time": "2021-03-29T16:44:24.560028",
     "status": "completed"
    },
    "tags": []
   },
   "source": [
    "Clean up the format of artists column:"
   ]
  },
  {
   "cell_type": "code",
   "execution_count": null,
   "metadata": {
    "execution": {
     "iopub.execute_input": "2021-03-29T16:44:24.735061Z",
     "iopub.status.busy": "2021-03-29T16:44:24.711448Z",
     "iopub.status.idle": "2021-03-29T16:44:25.285222Z",
     "shell.execute_reply": "2021-03-29T16:44:25.284567Z"
    },
    "papermill": {
     "duration": 0.639882,
     "end_time": "2021-03-29T16:44:25.285364",
     "exception": false,
     "start_time": "2021-03-29T16:44:24.645482",
     "status": "completed"
    },
    "scrolled": true,
    "tags": []
   },
   "outputs": [],
   "source": [
    "data.artists = data['artists'].str.replace('[','')\n",
    "data.artists = data['artists'].str.replace(']','')\n",
    "data.artists = data['artists'].str.replace(\"'\",'')\n",
    "data.artists = data['artists'].str.replace('\"','')\n",
    "data.artists"
   ]
  },
  {
   "cell_type": "markdown",
   "metadata": {},
   "source": [
    "Dimensions of 'data_by_artist'"
   ]
  },
  {
   "cell_type": "code",
   "execution_count": null,
   "metadata": {
    "execution": {
     "iopub.execute_input": "2021-03-29T16:44:25.376045Z",
     "iopub.status.busy": "2021-03-29T16:44:25.374944Z",
     "iopub.status.idle": "2021-03-29T16:44:25.542452Z",
     "shell.execute_reply": "2021-03-29T16:44:25.541867Z"
    },
    "papermill": {
     "duration": 0.214825,
     "end_time": "2021-03-29T16:44:25.542602",
     "exception": false,
     "start_time": "2021-03-29T16:44:25.327777",
     "status": "completed"
    },
    "scrolled": false,
    "tags": []
   },
   "outputs": [],
   "source": [
    "artist_df = pd.read_csv('data_by_artist.csv')\n",
    "artist_df.shape"
   ]
  },
  {
   "cell_type": "code",
   "execution_count": null,
   "metadata": {
    "execution": {
     "iopub.execute_input": "2021-03-29T16:44:25.651058Z",
     "iopub.status.busy": "2021-03-29T16:44:25.650397Z",
     "iopub.status.idle": "2021-03-29T16:44:25.654852Z",
     "shell.execute_reply": "2021-03-29T16:44:25.654362Z"
    },
    "papermill": {
     "duration": 0.067754,
     "end_time": "2021-03-29T16:44:25.655000",
     "exception": false,
     "start_time": "2021-03-29T16:44:25.587246",
     "status": "completed"
    },
    "scrolled": false
   },
   "outputs": [],
   "source": [
    "artist_df.head()"
   ]
  },
  {
   "cell_type": "markdown",
   "metadata": {},
   "source": [
    "Dimensions of 'data_by_genres'"
   ]
  },
  {
   "cell_type": "code",
   "execution_count": null,
   "metadata": {
    "execution": {
     "iopub.execute_input": "2021-03-29T16:44:25.747926Z",
     "iopub.status.busy": "2021-03-29T16:44:25.747270Z",
     "iopub.status.idle": "2021-03-29T16:44:25.776682Z",
     "shell.execute_reply": "2021-03-29T16:44:25.775984Z"
    },
    "papermill": {
     "duration": 0.07745,
     "end_time": "2021-03-29T16:44:25.776828",
     "exception": false,
     "start_time": "2021-03-29T16:44:25.699378",
     "status": "completed"
    },
    "scrolled": false,
    "tags": []
   },
   "outputs": [],
   "source": [
    "genres_df = pd.read_csv('data_by_genres.csv')\n",
    "genres_df.shape"
   ]
  },
  {
   "cell_type": "code",
   "execution_count": null,
   "metadata": {
    "execution": {
     "iopub.execute_input": "2021-03-29T16:44:25.877841Z",
     "iopub.status.busy": "2021-03-29T16:44:25.877100Z",
     "iopub.status.idle": "2021-03-29T16:44:25.890955Z",
     "shell.execute_reply": "2021-03-29T16:44:25.890412Z"
    },
    "papermill": {
     "duration": 0.069599,
     "end_time": "2021-03-29T16:44:25.891095",
     "exception": false,
     "start_time": "2021-03-29T16:44:25.821496",
     "status": "completed"
    },
    "tags": []
   },
   "outputs": [],
   "source": [
    "genres_df.head()"
   ]
  },
  {
   "cell_type": "markdown",
   "metadata": {},
   "source": [
    "Dimensions of 'data_by_year'"
   ]
  },
  {
   "cell_type": "code",
   "execution_count": null,
   "metadata": {
    "execution": {
     "iopub.execute_input": "2021-03-29T16:44:25.986883Z",
     "iopub.status.busy": "2021-03-29T16:44:25.986194Z",
     "iopub.status.idle": "2021-03-29T16:44:25.997449Z",
     "shell.execute_reply": "2021-03-29T16:44:25.996759Z"
    },
    "papermill": {
     "duration": 0.061071,
     "end_time": "2021-03-29T16:44:25.997598",
     "exception": false,
     "start_time": "2021-03-29T16:44:25.936527",
     "status": "completed"
    },
    "scrolled": false,
    "tags": []
   },
   "outputs": [],
   "source": [
    "year_df = pd.read_csv('data_by_year.csv')\n",
    "year_df.shape"
   ]
  },
  {
   "cell_type": "code",
   "execution_count": null,
   "metadata": {
    "execution": {
     "iopub.execute_input": "2021-03-29T16:44:26.101091Z",
     "iopub.status.busy": "2021-03-29T16:44:26.100435Z",
     "iopub.status.idle": "2021-03-29T16:44:26.122809Z",
     "shell.execute_reply": "2021-03-29T16:44:26.122107Z"
    },
    "papermill": {
     "duration": 0.075013,
     "end_time": "2021-03-29T16:44:26.122959",
     "exception": false,
     "start_time": "2021-03-29T16:44:26.047946",
     "status": "completed"
    },
    "tags": []
   },
   "outputs": [],
   "source": [
    "year_df.head()"
   ]
  },
  {
   "cell_type": "markdown",
   "metadata": {},
   "source": [
    "Dimensions of 'data_w_genres'"
   ]
  },
  {
   "cell_type": "code",
   "execution_count": null,
   "metadata": {},
   "outputs": [],
   "source": [
    "g_df.shape"
   ]
  },
  {
   "cell_type": "code",
   "execution_count": null,
   "metadata": {
    "execution": {
     "iopub.execute_input": "2021-03-29T16:44:26.220539Z",
     "iopub.status.busy": "2021-03-29T16:44:26.219867Z",
     "iopub.status.idle": "2021-03-29T16:44:26.437336Z",
     "shell.execute_reply": "2021-03-29T16:44:26.435628Z"
    },
    "papermill": {
     "duration": 0.268607,
     "end_time": "2021-03-29T16:44:26.437515",
     "exception": false,
     "start_time": "2021-03-29T16:44:26.168908",
     "status": "completed"
    },
    "scrolled": false,
    "tags": []
   },
   "outputs": [],
   "source": [
    "g_df = pd.read_csv('data_w_genres.csv')\n",
    "g_df.head()"
   ]
  },
  {
   "cell_type": "markdown",
   "metadata": {
    "papermill": {
     "duration": 0.047648,
     "end_time": "2021-03-29T16:44:26.536897",
     "exception": false,
     "start_time": "2021-03-29T16:44:26.489249",
     "status": "completed"
    },
    "tags": []
   },
   "source": [
    "# 2. Exploratory Data Analysis (EDA)"
   ]
  },
  {
   "cell_type": "markdown",
   "metadata": {
    "papermill": {
     "duration": 0.046949,
     "end_time": "2021-03-29T16:44:26.631959",
     "exception": false,
     "start_time": "2021-03-29T16:44:26.585010",
     "status": "completed"
    },
    "tags": []
   },
   "source": [
    "## Data Distribution "
   ]
  },
  {
   "cell_type": "markdown",
   "metadata": {},
   "source": [
    "Feature types:"
   ]
  },
  {
   "cell_type": "code",
   "execution_count": null,
   "metadata": {
    "execution": {
     "iopub.execute_input": "2021-03-29T16:44:26.732580Z",
     "iopub.status.busy": "2021-03-29T16:44:26.731509Z",
     "iopub.status.idle": "2021-03-29T16:44:26.826107Z",
     "shell.execute_reply": "2021-03-29T16:44:26.825455Z"
    },
    "papermill": {
     "duration": 0.146874,
     "end_time": "2021-03-29T16:44:26.826270",
     "exception": false,
     "start_time": "2021-03-29T16:44:26.679396",
     "status": "completed"
    },
    "scrolled": false,
    "tags": []
   },
   "outputs": [],
   "source": [
    "data.info()"
   ]
  },
  {
   "cell_type": "markdown",
   "metadata": {},
   "source": [
    "Numeric value description:"
   ]
  },
  {
   "cell_type": "code",
   "execution_count": null,
   "metadata": {
    "execution": {
     "iopub.execute_input": "2021-03-29T16:44:26.945104Z",
     "iopub.status.busy": "2021-03-29T16:44:26.943064Z",
     "iopub.status.idle": "2021-03-29T16:44:27.049246Z",
     "shell.execute_reply": "2021-03-29T16:44:27.049769Z"
    },
    "papermill": {
     "duration": 0.176074,
     "end_time": "2021-03-29T16:44:27.049957",
     "exception": false,
     "start_time": "2021-03-29T16:44:26.873883",
     "status": "completed"
    },
    "scrolled": false,
    "tags": []
   },
   "outputs": [],
   "source": [
    "#Describe those numeric features\n",
    "data[['acousticness','danceability','energy','liveness','loudness','mode','popularity','speechiness','tempo','valence']].describe()"
   ]
  },
  {
   "cell_type": "markdown",
   "metadata": {
    "papermill": {
     "duration": 0.048907,
     "end_time": "2021-03-29T16:44:27.146807",
     "exception": false,
     "start_time": "2021-03-29T16:44:27.097900",
     "status": "completed"
    },
    "tags": []
   },
   "source": [
    "Most of them range from 0-1 but some came from their own range. Loudness can go from -60 to 3.85, Tempos are from 0 to 243"
   ]
  },
  {
   "cell_type": "markdown",
   "metadata": {
    "papermill": {
     "duration": 0.047783,
     "end_time": "2021-03-29T16:44:27.243139",
     "exception": false,
     "start_time": "2021-03-29T16:44:27.195356",
     "status": "completed"
    },
    "tags": []
   },
   "source": [
    "## Let's hear some tracks"
   ]
  },
  {
   "cell_type": "markdown",
   "metadata": {
    "papermill": {
     "duration": 0.047698,
     "end_time": "2021-03-29T16:44:27.338803",
     "exception": false,
     "start_time": "2021-03-29T16:44:27.291105",
     "status": "completed"
    },
    "tags": []
   },
   "source": [
    "What are those Maximum and Minimum sounds like? It is a music dataset, let's hear them!\n",
    "\n",
    "The loudest tracks:"
   ]
  },
  {
   "cell_type": "code",
   "execution_count": null,
   "metadata": {
    "_kg_hide-input": true,
    "execution": {
     "iopub.execute_input": "2021-03-29T16:44:27.441216Z",
     "iopub.status.busy": "2021-03-29T16:44:27.440059Z",
     "iopub.status.idle": "2021-03-29T16:44:27.540575Z",
     "shell.execute_reply": "2021-03-29T16:44:27.541132Z"
    },
    "papermill": {
     "duration": 0.154636,
     "end_time": "2021-03-29T16:44:27.541339",
     "exception": false,
     "start_time": "2021-03-29T16:44:27.386703",
     "status": "completed"
    },
    "tags": []
   },
   "outputs": [],
   "source": [
    "df_loud = data.sort_values('loudness',ascending=False).head().reset_index()\n",
    "df_loud[['artists','name','loudness']]"
   ]
  },
  {
   "cell_type": "markdown",
   "metadata": {
    "papermill": {
     "duration": 0.05488,
     "end_time": "2021-03-29T16:44:27.651279",
     "exception": false,
     "start_time": "2021-03-29T16:44:27.596399",
     "status": "completed"
    },
    "tags": []
   },
   "source": [
    "One of the loudest track: 'Your Pretty Face Is Going to Hell'(turn your volume down)"
   ]
  },
  {
   "cell_type": "code",
   "execution_count": null,
   "metadata": {
    "_kg_hide-input": true,
    "execution": {
     "iopub.execute_input": "2021-03-29T16:44:27.767003Z",
     "iopub.status.busy": "2021-03-29T16:44:27.765911Z",
     "iopub.status.idle": "2021-03-29T16:44:27.844074Z",
     "shell.execute_reply": "2021-03-29T16:44:27.843412Z"
    },
    "papermill": {
     "duration": 0.137721,
     "end_time": "2021-03-29T16:44:27.844250",
     "exception": false,
     "start_time": "2021-03-29T16:44:27.706529",
     "status": "completed"
    },
    "tags": []
   },
   "outputs": [],
   "source": [
    "audio_loud = Audio(filename='Your Pretty Face Is Going to Hell.mp3')\n",
    "audio_loud"
   ]
  },
  {
   "cell_type": "markdown",
   "metadata": {
    "papermill": {
     "duration": 0.055156,
     "end_time": "2021-03-29T16:44:27.956751",
     "exception": false,
     "start_time": "2021-03-29T16:44:27.901595",
     "status": "completed"
    },
    "tags": []
   },
   "source": [
    "The most energetic tracks:"
   ]
  },
  {
   "cell_type": "code",
   "execution_count": null,
   "metadata": {
    "_kg_hide-input": true,
    "execution": {
     "iopub.execute_input": "2021-03-29T16:44:28.068188Z",
     "iopub.status.busy": "2021-03-29T16:44:28.067464Z",
     "iopub.status.idle": "2021-03-29T16:44:28.170511Z",
     "shell.execute_reply": "2021-03-29T16:44:28.169506Z"
    },
    "papermill": {
     "duration": 0.158074,
     "end_time": "2021-03-29T16:44:28.170696",
     "exception": false,
     "start_time": "2021-03-29T16:44:28.012622",
     "status": "completed"
    },
    "scrolled": true,
    "tags": []
   },
   "outputs": [],
   "source": [
    "df_energy = data.sort_values(['energy','popularity'],ascending=False).head().reset_index()\n",
    "df_energy[['artists','name','energy']]"
   ]
  },
  {
   "cell_type": "markdown",
   "metadata": {
    "papermill": {
     "duration": 0.048953,
     "end_time": "2021-03-29T16:44:28.273754",
     "exception": false,
     "start_time": "2021-03-29T16:44:28.224801",
     "status": "completed"
    },
    "tags": []
   },
   "source": [
    "Surprisingly, the top 4 energetic tracks with the highest popularity scores are all rain sound recordings. It might be due to how Spotify's algorithm calculates the energy score."
   ]
  },
  {
   "cell_type": "code",
   "execution_count": null,
   "metadata": {
    "_kg_hide-input": true,
    "execution": {
     "iopub.execute_input": "2021-03-29T16:44:28.384822Z",
     "iopub.status.busy": "2021-03-29T16:44:28.384129Z",
     "iopub.status.idle": "2021-03-29T16:44:28.396418Z",
     "shell.execute_reply": "2021-03-29T16:44:28.395739Z"
    },
    "papermill": {
     "duration": 0.073383,
     "end_time": "2021-03-29T16:44:28.396565",
     "exception": false,
     "start_time": "2021-03-29T16:44:28.323182",
     "status": "completed"
    },
    "scrolled": true,
    "tags": []
   },
   "outputs": [],
   "source": [
    "audio_energy = Audio(filename='Forest Rain.mp3')\n",
    "audio_energy"
   ]
  },
  {
   "cell_type": "markdown",
   "metadata": {
    "papermill": {
     "duration": 0.04973,
     "end_time": "2021-03-29T16:44:28.496478",
     "exception": false,
     "start_time": "2021-03-29T16:44:28.446748",
     "status": "completed"
    },
    "tags": []
   },
   "source": [
    "The most danceable tracks:"
   ]
  },
  {
   "cell_type": "code",
   "execution_count": null,
   "metadata": {
    "_kg_hide-input": true,
    "execution": {
     "iopub.execute_input": "2021-03-29T16:44:28.602694Z",
     "iopub.status.busy": "2021-03-29T16:44:28.601969Z",
     "iopub.status.idle": "2021-03-29T16:44:28.702069Z",
     "shell.execute_reply": "2021-03-29T16:44:28.701515Z"
    },
    "papermill": {
     "duration": 0.155588,
     "end_time": "2021-03-29T16:44:28.702233",
     "exception": false,
     "start_time": "2021-03-29T16:44:28.546645",
     "status": "completed"
    },
    "tags": []
   },
   "outputs": [],
   "source": [
    "df_dance = data.sort_values(['danceability','popularity'],ascending=False).head().reset_index()\n",
    "df_dance[['artists','name','danceability']]"
   ]
  },
  {
   "cell_type": "markdown",
   "metadata": {
    "papermill": {
     "duration": 0.050575,
     "end_time": "2021-03-29T16:44:28.803889",
     "exception": false,
     "start_time": "2021-03-29T16:44:28.753314",
     "status": "completed"
    },
    "tags": []
   },
   "source": [
    "One of the top five tracks:"
   ]
  },
  {
   "cell_type": "code",
   "execution_count": null,
   "metadata": {
    "_kg_hide-input": true,
    "execution": {
     "iopub.execute_input": "2021-03-29T16:44:28.920456Z",
     "iopub.status.busy": "2021-03-29T16:44:28.911540Z",
     "iopub.status.idle": "2021-03-29T16:44:28.933479Z",
     "shell.execute_reply": "2021-03-29T16:44:28.932921Z"
    },
    "papermill": {
     "duration": 0.07856,
     "end_time": "2021-03-29T16:44:28.933635",
     "exception": false,
     "start_time": "2021-03-29T16:44:28.855075",
     "status": "completed"
    },
    "tags": []
   },
   "outputs": [],
   "source": [
    "audio_dance = Audio(filename='Tone-Loc Funky Cold Medina.mp3')\n",
    "audio_dance"
   ]
  },
  {
   "cell_type": "markdown",
   "metadata": {
    "papermill": {
     "duration": 0.052528,
     "end_time": "2021-03-29T16:44:29.037922",
     "exception": false,
     "start_time": "2021-03-29T16:44:28.985394",
     "status": "completed"
    },
    "tags": []
   },
   "source": [
    "The happiest (highest valence) tracks:"
   ]
  },
  {
   "cell_type": "code",
   "execution_count": null,
   "metadata": {
    "_kg_hide-input": true,
    "execution": {
     "iopub.execute_input": "2021-03-29T16:44:29.148333Z",
     "iopub.status.busy": "2021-03-29T16:44:29.147608Z",
     "iopub.status.idle": "2021-03-29T16:44:29.246965Z",
     "shell.execute_reply": "2021-03-29T16:44:29.246336Z"
    },
    "papermill": {
     "duration": 0.157072,
     "end_time": "2021-03-29T16:44:29.247118",
     "exception": false,
     "start_time": "2021-03-29T16:44:29.090046",
     "status": "completed"
    },
    "tags": []
   },
   "outputs": [],
   "source": [
    "df_happy = data.sort_values(['valence','popularity'],ascending=False).head().reset_index()\n",
    "df_happy[['artists','name','valence']]"
   ]
  },
  {
   "cell_type": "code",
   "execution_count": null,
   "metadata": {
    "_kg_hide-input": true,
    "execution": {
     "iopub.execute_input": "2021-03-29T16:44:29.357208Z",
     "iopub.status.busy": "2021-03-29T16:44:29.356560Z",
     "iopub.status.idle": "2021-03-29T16:44:29.377896Z",
     "shell.execute_reply": "2021-03-29T16:44:29.377362Z"
    },
    "papermill": {
     "duration": 0.078487,
     "end_time": "2021-03-29T16:44:29.378051",
     "exception": false,
     "start_time": "2021-03-29T16:44:29.299564",
     "status": "completed"
    },
    "scrolled": true,
    "tags": []
   },
   "outputs": [],
   "source": [
    "audio_happy = Audio(filename='Pasito Duranguense.mp3')\n",
    "audio_happy"
   ]
  },
  {
   "cell_type": "markdown",
   "metadata": {
    "papermill": {
     "duration": 0.052095,
     "end_time": "2021-03-29T16:44:29.482689",
     "exception": false,
     "start_time": "2021-03-29T16:44:29.430594",
     "status": "completed"
    },
    "tags": []
   },
   "source": [
    "The clamest (lowest valence) tracks:"
   ]
  },
  {
   "cell_type": "code",
   "execution_count": null,
   "metadata": {
    "_kg_hide-input": true,
    "execution": {
     "iopub.execute_input": "2021-03-29T16:44:29.594214Z",
     "iopub.status.busy": "2021-03-29T16:44:29.593523Z",
     "iopub.status.idle": "2021-03-29T16:44:29.686947Z",
     "shell.execute_reply": "2021-03-29T16:44:29.686388Z"
    },
    "papermill": {
     "duration": 0.152016,
     "end_time": "2021-03-29T16:44:29.687105",
     "exception": false,
     "start_time": "2021-03-29T16:44:29.535089",
     "status": "completed"
    },
    "tags": []
   },
   "outputs": [],
   "source": [
    "df_clamest = data.sort_values(['valence','popularity'],ascending=(True,False)).head().reset_index()\n",
    "df_clamest[['artists','name','valence']]"
   ]
  },
  {
   "cell_type": "markdown",
   "metadata": {
    "papermill": {
     "duration": 0.052575,
     "end_time": "2021-03-29T16:44:29.797617",
     "exception": false,
     "start_time": "2021-03-29T16:44:29.745042",
     "status": "completed"
    },
    "tags": []
   },
   "source": [
    "Seems the most non-positive tracks are those white noise recording that help people sleep:"
   ]
  },
  {
   "cell_type": "code",
   "execution_count": null,
   "metadata": {
    "_kg_hide-input": true,
    "execution": {
     "iopub.execute_input": "2021-03-29T16:44:29.922913Z",
     "iopub.status.busy": "2021-03-29T16:44:29.916574Z",
     "iopub.status.idle": "2021-03-29T16:44:29.927964Z",
     "shell.execute_reply": "2021-03-29T16:44:29.927340Z"
    },
    "papermill": {
     "duration": 0.076999,
     "end_time": "2021-03-29T16:44:29.928118",
     "exception": false,
     "start_time": "2021-03-29T16:44:29.851119",
     "status": "completed"
    },
    "tags": []
   },
   "outputs": [],
   "source": [
    "audio_clam = Audio(filename='Clean White Noise - Loopable With No Fade.mp3')\n",
    "audio_clam"
   ]
  },
  {
   "cell_type": "markdown",
   "metadata": {
    "papermill": {
     "duration": 0.054166,
     "end_time": "2021-03-29T16:44:30.037388",
     "exception": false,
     "start_time": "2021-03-29T16:44:29.983222",
     "status": "completed"
    },
    "tags": []
   },
   "source": [
    "The most popular artists:"
   ]
  },
  {
   "cell_type": "code",
   "execution_count": null,
   "metadata": {
    "_kg_hide-input": true,
    "execution": {
     "iopub.execute_input": "2021-03-29T16:44:30.166003Z",
     "iopub.status.busy": "2021-03-29T16:44:30.165318Z",
     "iopub.status.idle": "2021-03-29T16:44:30.650742Z",
     "shell.execute_reply": "2021-03-29T16:44:30.650216Z"
    },
    "papermill": {
     "duration": 0.559616,
     "end_time": "2021-03-29T16:44:30.650892",
     "exception": false,
     "start_time": "2021-03-29T16:44:30.091276",
     "status": "completed"
    },
    "tags": []
   },
   "outputs": [],
   "source": [
    "artist_pop = pd.DataFrame(data.groupby('artists')['popularity'].mean().reset_index())\n",
    "artist_pop = artist_pop.sort_values(['popularity'],ascending=(False)).head(20).reset_index().drop('index',axis=1)\n",
    "plt.figure(figsize=(10,6))\n",
    "# make barplot\n",
    "sns.barplot(x=artist_pop.popularity, y=artist_pop.artists, data=artist_pop)\n",
    "plt.xlim(80,100)\n",
    "plt.show()"
   ]
  },
  {
   "cell_type": "markdown",
   "metadata": {
    "papermill": {
     "duration": 0.054863,
     "end_time": "2021-03-29T16:44:30.761218",
     "exception": false,
     "start_time": "2021-03-29T16:44:30.706355",
     "status": "completed"
    },
    "tags": []
   },
   "source": [
    "#### Feature Distrubutions"
   ]
  },
  {
   "cell_type": "code",
   "execution_count": null,
   "metadata": {
    "_kg_hide-input": true,
    "execution": {
     "iopub.execute_input": "2021-03-29T16:44:30.902294Z",
     "iopub.status.busy": "2021-03-29T16:44:30.899098Z",
     "iopub.status.idle": "2021-03-29T16:44:40.929297Z",
     "shell.execute_reply": "2021-03-29T16:44:40.929791Z"
    },
    "papermill": {
     "duration": 10.11324,
     "end_time": "2021-03-29T16:44:40.929961",
     "exception": false,
     "start_time": "2021-03-29T16:44:30.816721",
     "status": "completed"
    },
    "scrolled": false,
    "tags": []
   },
   "outputs": [],
   "source": [
    "f, axes = plt.subplots(3, 3, figsize=(13, 14), sharex=False)\n",
    "sns.distplot( data[\"acousticness\"] , color=\"skyblue\", ax=axes[0, 0])\n",
    "sns.distplot( data[\"danceability\"] , color=\"olive\", ax=axes[0, 1])\n",
    "sns.distplot( data[\"energy\"] , color=\"gold\", ax=axes[0, 2])\n",
    "sns.distplot( data[\"liveness\"] , color=\"yellowgreen\",ax=axes[1, 0])\n",
    "sns.distplot( data[\"loudness\"] , color=\"wheat\", ax=axes[1, 1])\n",
    "sns.distplot( data[\"popularity\"] , color=\"teal\", ax=axes[1, 2])\n",
    "sns.distplot( data[\"speechiness\"] , color=\"palegreen\", ax=axes[2, 0])\n",
    "sns.distplot( data[\"tempo\"] , color=\"orchid\", ax=axes[2, 1])\n",
    "sns.distplot( data[\"valence\"] , color=\"lightblue\", ax=axes[2, 2])"
   ]
  },
  {
   "cell_type": "markdown",
   "metadata": {
    "papermill": {
     "duration": 0.059705,
     "end_time": "2021-03-29T16:44:41.049409",
     "exception": false,
     "start_time": "2021-03-29T16:44:40.989704",
     "status": "completed"
    },
    "tags": []
   },
   "source": [
    "From those charts, we can see:<br>\n",
    "* Most of the tracks are not live music.\n",
    "* Most of the tracks are low in 'speechness.' For example, Raps have a certain 'speech' level while Parlour music does not.<br>\n",
    "* Danceability's distribution seems like a normal shape<br>\n",
    "* Valence(sentiment) is balanced in general, but with a high number of records near 1.0 - very positive song. Generally, there are more positive songs than negative songs in this collection<br>\n",
    "* Acuousticness is polarized. Most of the tracks are either pure instrumental or vocal, which make sense.<br>\n",
    "* Many tracks have '0' popularity. Most of the popularity scores sit from 20 to 60."
   ]
  },
  {
   "cell_type": "markdown",
   "metadata": {
    "papermill": {
     "duration": 0.059467,
     "end_time": "2021-03-29T16:44:41.168607",
     "exception": false,
     "start_time": "2021-03-29T16:44:41.109140",
     "status": "completed"
    },
    "tags": []
   },
   "source": [
    "Let's examine the distribution by years. The chart below shows that fewer tracks are available before 1945, and the number varies significantly among those years. On the other hand, a large amount of collection shows up from 2019 to the present."
   ]
  },
  {
   "cell_type": "code",
   "execution_count": null,
   "metadata": {
    "_kg_hide-input": true,
    "execution": {
     "iopub.execute_input": "2021-03-29T16:44:41.290038Z",
     "iopub.status.busy": "2021-03-29T16:44:41.289326Z",
     "iopub.status.idle": "2021-03-29T16:44:42.533443Z",
     "shell.execute_reply": "2021-03-29T16:44:42.534403Z"
    },
    "papermill": {
     "duration": 1.307208,
     "end_time": "2021-03-29T16:44:42.534640",
     "exception": false,
     "start_time": "2021-03-29T16:44:41.227432",
     "status": "completed"
    },
    "scrolled": true,
    "tags": []
   },
   "outputs": [],
   "source": [
    "sns.distplot( data[\"year\"] , color=\"olive\")\n",
    "plt.axvspan(1920, 1945, facecolor='r', alpha=0.2)"
   ]
  },
  {
   "cell_type": "markdown",
   "metadata": {
    "papermill": {
     "duration": 0.067602,
     "end_time": "2021-03-29T16:44:42.676657",
     "exception": false,
     "start_time": "2021-03-29T16:44:42.609055",
     "status": "completed"
    },
    "tags": []
   },
   "source": [
    "#### Popularity - What are those 0s score?"
   ]
  },
  {
   "cell_type": "markdown",
   "metadata": {
    "papermill": {
     "duration": 0.068904,
     "end_time": "2021-03-29T16:44:42.807266",
     "exception": false,
     "start_time": "2021-03-29T16:44:42.738362",
     "status": "completed"
    },
    "tags": []
   },
   "source": [
    "There are a large number of records with '0' popularity scores in the previous histogram matrix. What are those tracks that are being '0' popular? Do they have some shared characteristics? Let's take a look at those and see if there is any pattern."
   ]
  },
  {
   "cell_type": "markdown",
   "metadata": {},
   "source": [
    "some 0 popularity tracks:"
   ]
  },
  {
   "cell_type": "code",
   "execution_count": null,
   "metadata": {
    "execution": {
     "iopub.execute_input": "2021-03-29T16:44:42.934263Z",
     "iopub.status.busy": "2021-03-29T16:44:42.933248Z",
     "iopub.status.idle": "2021-03-29T16:44:42.954438Z",
     "shell.execute_reply": "2021-03-29T16:44:42.954970Z"
    },
    "papermill": {
     "duration": 0.085298,
     "end_time": "2021-03-29T16:44:42.955143",
     "exception": false,
     "start_time": "2021-03-29T16:44:42.869845",
     "status": "completed"
    },
    "scrolled": true,
    "tags": []
   },
   "outputs": [],
   "source": [
    "#some 0 popularity tracks\n",
    "mask = data.popularity==0\n",
    "df0=data[mask].tail().reset_index()\n",
    "df0[['artists','name','popularity']]"
   ]
  },
  {
   "cell_type": "markdown",
   "metadata": {},
   "source": [
    "0s popularity record numeric value summary:"
   ]
  },
  {
   "cell_type": "code",
   "execution_count": null,
   "metadata": {
    "execution": {
     "iopub.execute_input": "2021-03-29T16:44:43.083591Z",
     "iopub.status.busy": "2021-03-29T16:44:43.082589Z",
     "iopub.status.idle": "2021-03-29T16:44:43.175712Z",
     "shell.execute_reply": "2021-03-29T16:44:43.174992Z"
    },
    "papermill": {
     "duration": 0.158849,
     "end_time": "2021-03-29T16:44:43.175866",
     "exception": false,
     "start_time": "2021-03-29T16:44:43.017017",
     "status": "completed"
    },
    "tags": []
   },
   "outputs": [],
   "source": [
    "#describe 0s\n",
    "data[mask].describe()"
   ]
  },
  {
   "cell_type": "markdown",
   "metadata": {},
   "source": [
    "Non-0s popularity record numeric value summary:"
   ]
  },
  {
   "cell_type": "code",
   "execution_count": null,
   "metadata": {
    "execution": {
     "iopub.execute_input": "2021-03-29T16:44:43.309904Z",
     "iopub.status.busy": "2021-03-29T16:44:43.309239Z",
     "iopub.status.idle": "2021-03-29T16:44:43.462705Z",
     "shell.execute_reply": "2021-03-29T16:44:43.463202Z"
    },
    "papermill": {
     "duration": 0.220263,
     "end_time": "2021-03-29T16:44:43.463385",
     "exception": false,
     "start_time": "2021-03-29T16:44:43.243122",
     "status": "completed"
    },
    "scrolled": true,
    "tags": []
   },
   "outputs": [],
   "source": [
    "#describe non-0s\n",
    "data[data.popularity>0].describe()"
   ]
  },
  {
   "cell_type": "markdown",
   "metadata": {
    "papermill": {
     "duration": 0.06225,
     "end_time": "2021-03-29T16:44:43.587943",
     "exception": false,
     "start_time": "2021-03-29T16:44:43.525693",
     "status": "completed"
    },
    "tags": []
   },
   "source": [
    "If we compare the average of the 0s popular with the other data, the 0s one are generally older(year 1960 vs. 1982), less energetic(0.37 vs. 0.51), more instrumental(0.34 vs. 0.15), and more speeches involved(0.19 vs. 0.08.)"
   ]
  },
  {
   "cell_type": "code",
   "execution_count": null,
   "metadata": {
    "_kg_hide-input": true,
    "execution": {
     "iopub.execute_input": "2021-03-29T16:44:43.716962Z",
     "iopub.status.busy": "2021-03-29T16:44:43.716240Z",
     "iopub.status.idle": "2021-03-29T16:44:54.054189Z",
     "shell.execute_reply": "2021-03-29T16:44:54.054680Z"
    },
    "papermill": {
     "duration": 10.404725,
     "end_time": "2021-03-29T16:44:54.054872",
     "exception": false,
     "start_time": "2021-03-29T16:44:43.650147",
     "status": "completed"
    },
    "tags": []
   },
   "outputs": [],
   "source": [
    "#salce the feature value from 0-1 so we can place them in to one chart\n",
    "scaler = MinMaxScaler()\n",
    "df_scale = data[['year','instrumentalness','speechiness','energy','danceability','acousticness','duration_ms','liveness','loudness','tempo','valence']]\n",
    "scaler.fit(df_scale)\n",
    "df_scale = pd.DataFrame(scaler.transform(df_scale))\n",
    "df_scale.columns=['year','instrumentalness','speechiness','energy','danceability','acousticness','duration_ms','liveness','loudness','tempo','valence']\n",
    "\n",
    "#transpose columns to row\n",
    "df_violin = pd.DataFrame(df_scale.T.unstack())\n",
    "df_violin.index.rename(['ind1','ind2'],inplace=True)\n",
    "\n",
    "#Add the popularity from main dataset\n",
    "df_violin=df_violin.join(data['popularity'],on='ind1',how='inner').reset_index()\n",
    "df_violin.drop('ind1',axis=1,inplace=True)\n",
    "df_violin.columns=['feature','value','popularity']\n",
    "\n",
    "#create another column for 0 of non0\n",
    "df_violin['popularity score']=df_violin.popularity.apply(lambda x:'0'if x ==0 else 'Non-0')\n",
    "df_violin.drop('popularity',axis=1,inplace=True)\n",
    "\n",
    "#draw violinplot\n",
    "plt.figure(figsize=(20,8))\n",
    "sns.violinplot(x=\"feature\", y=\"value\", hue='popularity score', data=df_violin, palette=\"Pastel1\")\n",
    "plt.show()"
   ]
  },
  {
   "cell_type": "markdown",
   "metadata": {
    "papermill": {
     "duration": 0.065769,
     "end_time": "2021-03-29T16:44:54.188062",
     "exception": false,
     "start_time": "2021-03-29T16:44:54.122293",
     "status": "completed"
    },
    "tags": []
   },
   "source": [
    "The violin plots present similar results: Less energetic and more acoustic tracks are more likely to have a 0 popularity score. For year, it is obvious that the 0 popular tracks appear to be either older or newer than the average."
   ]
  },
  {
   "cell_type": "code",
   "execution_count": null,
   "metadata": {
    "_kg_hide-input": true,
    "execution": {
     "iopub.execute_input": "2021-03-29T16:44:54.333900Z",
     "iopub.status.busy": "2021-03-29T16:44:54.332727Z",
     "iopub.status.idle": "2021-03-29T16:44:56.675590Z",
     "shell.execute_reply": "2021-03-29T16:44:56.676044Z"
    },
    "papermill": {
     "duration": 2.42227,
     "end_time": "2021-03-29T16:44:56.676240",
     "exception": false,
     "start_time": "2021-03-29T16:44:54.253970",
     "status": "completed"
    },
    "tags": []
   },
   "outputs": [],
   "source": [
    "#Count the 0s and non-0s for donut chart\n",
    "pop_df = pd.DataFrame(data.popularity>0)\n",
    "pop_df = pop_df.value_counts().tolist()\n",
    "\n",
    "#prepare data group by years for the bar charts\n",
    "non_0 = data[data.popularity>0].groupby('year')['popularity'].count().reset_index()\n",
    "total = data.groupby('year')['popularity'].count().reset_index()\n",
    "non_0['popularity'] = [i / j * 100 for i,j in zip(non_0['popularity'], total['popularity'])]\n",
    "total['popularity'] = [i / j * 100 for i,j in zip(total['popularity'], total['popularity'])]\n",
    "\n",
    "\n",
    "#Draw a donut chart\n",
    "names = ['Total Non-0s', 'Total 0s']\n",
    "plt.figure(figsize=(8,8))\n",
    "\n",
    "#ax1 = plt.subplot2grid((1,2),(0,0))\n",
    "my_circle = plt.Circle( (0,0), 0.6, color='white')\n",
    "plt.pie(pop_df, labels=names, colors=['palegreen','grey'],autopct='%1.2f%%',startangle=90, pctdistance=0.4)\n",
    "p = plt.gcf()\n",
    "p.gca().add_artist(my_circle)\n",
    "\n",
    "#Draw a bar chart\n",
    "# bar chart 1 -> top bars (group of 'Popularity=0')\n",
    "plt.figure(figsize=(20,12))\n",
    "#ax2 = plt.subplot2grid((1,2),(0,1))\n",
    "bar1 = sns.barplot(x=\"year\",y=\"popularity\", data=total, color='grey')\n",
    "plt.xticks(rotation=90)\n",
    "plt.locator_params(nbins=30)\n",
    "\n",
    "# bar chart 2 -> bottom bars (group of 'Popularity>0')\n",
    "bar2 = sns.barplot(x=\"year\",y=\"popularity\", data=non_0, color='palegreen')\n",
    "plt.xticks(rotation=60)\n",
    "plt.locator_params(nbins=30)\n",
    "# add legend\n",
    "top_bar = mpatches.Patch(color='grey', label='0s')\n",
    "bottom_bar = mpatches.Patch(color='palegreen', label='Non-0s')\n",
    "plt.legend(handles=[top_bar, bottom_bar])\n",
    "\n",
    "# Show the graph\n",
    "plt.show()"
   ]
  },
  {
   "cell_type": "markdown",
   "metadata": {
    "papermill": {
     "duration": 0.070683,
     "end_time": "2021-03-29T16:44:56.815929",
     "exception": false,
     "start_time": "2021-03-29T16:44:56.745246",
     "status": "completed"
    },
    "tags": []
   },
   "source": [
    "In total, we have about a quarter of tracks(23.46%) that are 0 popular. The bar charts above show that the tracks before 1955 take up the majority of those 0s score. One reason might be that they are 'too old' for people to listen to nowadays. It seems that there is a 'Golden Age' period from 1960 to 2000, where more than 95% of tracks back then have scored some popularity.  Nonetheless, the latest tracks that are in 2021 might be too new to have a popularity score assigned."
   ]
  },
  {
   "cell_type": "markdown",
   "metadata": {
    "papermill": {
     "duration": 0.068357,
     "end_time": "2021-03-29T16:44:56.953047",
     "exception": false,
     "start_time": "2021-03-29T16:44:56.884690",
     "status": "completed"
    },
    "tags": []
   },
   "source": [
    "#### Feature Correlations"
   ]
  },
  {
   "cell_type": "code",
   "execution_count": null,
   "metadata": {
    "_kg_hide-input": true,
    "execution": {
     "iopub.execute_input": "2021-03-29T16:44:57.097469Z",
     "iopub.status.busy": "2021-03-29T16:44:57.096723Z",
     "iopub.status.idle": "2021-03-29T16:44:59.177931Z",
     "shell.execute_reply": "2021-03-29T16:44:59.178574Z"
    },
    "papermill": {
     "duration": 2.156293,
     "end_time": "2021-03-29T16:44:59.178767",
     "exception": false,
     "start_time": "2021-03-29T16:44:57.022474",
     "status": "completed"
    },
    "tags": []
   },
   "outputs": [],
   "source": [
    "plt.figure(figsize=(16, 8))\n",
    "sns.set(style=\"whitegrid\")\n",
    "corr = data.corr()\n",
    "sns.heatmap(corr,annot=True,cmap='coolwarm')"
   ]
  },
  {
   "cell_type": "markdown",
   "metadata": {
    "papermill": {
     "duration": 0.074369,
     "end_time": "2021-03-29T16:44:59.330847",
     "exception": false,
     "start_time": "2021-03-29T16:44:59.256478",
     "status": "completed"
    },
    "tags": []
   },
   "source": [
    "If we look at the popularity column, we notice that it is highly correlated with some of the features. Spotify users seem to prefer the more energetic, louder, less acoustic tracks. <br>\n",
    "There is also a high correlation of 0.51 with feature 'year.' We notice that the music track has become less acoustic, more energic, and louder over the years.<br>\n",
    "Some other correlation pairs are inline with what we expected, such as high energy tracks are louder, non-acoustic tracks(R&R, electronic, etc.) are more energetic and louder."
   ]
  },
  {
   "cell_type": "markdown",
   "metadata": {
    "papermill": {
     "duration": 0.074933,
     "end_time": "2021-03-29T16:44:59.480960",
     "exception": false,
     "start_time": "2021-03-29T16:44:59.406027",
     "status": "completed"
    },
    "tags": []
   },
   "source": [
    "Based on the heatmap, I plot some high correlation feature pairs to examine their relationship in 2d histogram. The darker of bins in the charts, the more points lay at the same position. As we can see, Danceability/Valence, Energy/Lounderness shows a strong positive linear relationship, while others are not very obvious. "
   ]
  },
  {
   "cell_type": "code",
   "execution_count": null,
   "metadata": {
    "_kg_hide-input": true,
    "execution": {
     "iopub.execute_input": "2021-03-29T16:44:59.657958Z",
     "iopub.status.busy": "2021-03-29T16:44:59.657239Z",
     "iopub.status.idle": "2021-03-29T16:45:00.776405Z",
     "shell.execute_reply": "2021-03-29T16:45:00.776929Z"
    },
    "papermill": {
     "duration": 1.221904,
     "end_time": "2021-03-29T16:45:00.777105",
     "exception": false,
     "start_time": "2021-03-29T16:44:59.555201",
     "status": "completed"
    },
    "tags": []
   },
   "outputs": [],
   "source": [
    "fig, [(axes, axes1), (axes2, axes3),(axes4, axes5)] = plt.subplots(nrows = 3, ncols = 2, sharex = False, figsize=(12,12))\n",
    "axes.hist2d(x = data['danceability'],y = data['valence'], bins=(80, 80), cmap=plt.cm.Blues)\n",
    "axes.set_xlabel('danceability', fontsize=12)\n",
    "axes.set_ylabel('valence', fontsize=12)\n",
    "axes1.hist2d(x = data['energy'],y = data['loudness'], bins=(80, 80), cmap=plt.cm.Blues)\n",
    "axes1.set_xlabel('energy', fontsize=12)\n",
    "axes1.set_ylabel('loudness', fontsize=12)\n",
    "axes2.hist2d(x = data['energy'],y = data['popularity'], bins=(80, 80), cmap=plt.cm.Blues)\n",
    "axes2.set_xlabel('energy', fontsize=12)\n",
    "axes2.set_ylabel('popularity', fontsize=12)\n",
    "axes3.hist2d(x = data['acousticness'],y = data['popularity'], bins=(80, 80), cmap=plt.cm.Blues)\n",
    "axes3.set_xlabel('acousticness', fontsize=12)\n",
    "axes3.set_ylabel('popularity', fontsize=12)\n",
    "axes4.hist2d(x = data['energy'],y = data['acousticness'], bins=(80, 80), cmap=plt.cm.Blues)\n",
    "axes4.set_xlabel('energy', fontsize=12)\n",
    "axes4.set_ylabel('acousticness', fontsize=12)\n",
    "axes5.hist2d(x = data['loudness'],y = data['acousticness'], bins=(80, 80), cmap=plt.cm.Blues)\n",
    "axes5.set_xlabel('loudness', fontsize=12)\n",
    "axes5.set_ylabel('acousticness', fontsize=12)\n",
    "plt.show()"
   ]
  },
  {
   "cell_type": "markdown",
   "metadata": {
    "papermill": {
     "duration": 0.083704,
     "end_time": "2021-03-29T16:45:00.947269",
     "exception": false,
     "start_time": "2021-03-29T16:45:00.863565",
     "status": "completed"
    },
    "tags": []
   },
   "source": [
    "#### Music Trend Analysis"
   ]
  },
  {
   "cell_type": "code",
   "execution_count": null,
   "metadata": {
    "_kg_hide-input": true,
    "execution": {
     "iopub.execute_input": "2021-03-29T16:45:01.152999Z",
     "iopub.status.busy": "2021-03-29T16:45:01.121710Z",
     "iopub.status.idle": "2021-03-29T16:45:03.519199Z",
     "shell.execute_reply": "2021-03-29T16:45:03.519711Z"
    },
    "papermill": {
     "duration": 2.494051,
     "end_time": "2021-03-29T16:45:03.519887",
     "exception": false,
     "start_time": "2021-03-29T16:45:01.025836",
     "status": "completed"
    },
    "tags": []
   },
   "outputs": [],
   "source": [
    "#Extract Numeric features and set them on the same scale\n",
    "year_num = year_df[['acousticness','danceability','energy','liveness','loudness','popularity','speechiness','tempo','valence']]\n",
    "scaler = MinMaxScaler()\n",
    "scaler.fit(year_num)\n",
    "year_scale = pd.DataFrame(scaler.transform(year_num))\n",
    "year_scale.columns = ['acousticness','danceability','energy','liveness','loudness','popularity','speechiness','tempo','valence']\n",
    "year_scale['year'] = year_df['year']\n",
    "\n",
    "#Create line charts for each numeric feature across the years\n",
    "# Initialize the figure style\n",
    "plt.style.use('seaborn-darkgrid')\n",
    " \n",
    "# create a color palette\n",
    "palette = plt.get_cmap('tab10')\n",
    "\n",
    "f, axes = plt.subplots(3, 3, figsize=(13, 13), sharex=True)\n",
    "\n",
    "# multiple line plot\n",
    "\n",
    "num=0\n",
    "for column in year_scale.drop('year', axis=1):\n",
    "    num+=1\n",
    "    x = np.random.rand(9)\n",
    "    # make subplot\n",
    "    plt.subplot(3,3, num)\n",
    "    plt.figsize=(20, 20)\n",
    " \n",
    "    # plot every group, but discrete\n",
    "    for v in year_scale.drop('year', axis=1):\n",
    "        plt.plot(year_scale['year'], year_scale[v], marker='', color='grey', linewidth=0.6, alpha=0.3)\n",
    "        \n",
    "    # Plot the lineplot\n",
    "    plt.plot(year_scale['year'], year_scale[column], marker='', color=palette(num), linewidth=2.4, alpha=0.9, label=column)\n",
    " \n",
    "    if num in range(7) :\n",
    "        plt.tick_params(labelbottom='off')\n",
    "    if num not in [1,4,7] :\n",
    "        plt.tick_params(labelleft='off')\n",
    " \n",
    "    # Add title\n",
    "    plt.title(column, loc='left', fontsize=12, fontweight=0, color=palette(num) )\n",
    "\n",
    "# general title\n",
    "plt.suptitle(\"Numeric Attributes Trend Over The Years\", fontsize=13, fontweight=0, color='black', style='italic')\n",
    " \n",
    "# Show the graph\n",
    "plt.show()"
   ]
  },
  {
   "cell_type": "markdown",
   "metadata": {
    "papermill": {
     "duration": 0.096005,
     "end_time": "2021-03-29T16:45:03.716193",
     "exception": false,
     "start_time": "2021-03-29T16:45:03.620188",
     "status": "completed"
    },
    "tags": []
   },
   "source": [
    "Lines are volatile before 1950 due to the fewer available records. Some general trends spotted are music becomes louder, faster pace, more energetic ,and easier to dance to. There are also more vocal tracks instrumental over the years. \n",
    "It seems that tracks from 1970 to 2000 are more positive, which might lead to the high popularity scores from that period."
   ]
  },
  {
   "cell_type": "markdown",
   "metadata": {
    "papermill": {
     "duration": 0.092303,
     "end_time": "2021-03-29T16:45:03.901276",
     "exception": false,
     "start_time": "2021-03-29T16:45:03.808973",
     "status": "completed"
    },
    "tags": []
   },
   "source": [
    "The analysis below summarizes tracks’ characteristics into different periods (decades). I wonder if every generation of music has its traits that we could recognize and the artists representing that generation. "
   ]
  },
  {
   "cell_type": "code",
   "execution_count": null,
   "metadata": {
    "_kg_hide-input": true,
    "execution": {
     "iopub.execute_input": "2021-03-29T16:45:04.091282Z",
     "iopub.status.busy": "2021-03-29T16:45:04.090116Z",
     "iopub.status.idle": "2021-03-29T16:45:04.245531Z",
     "shell.execute_reply": "2021-03-29T16:45:04.246132Z"
    },
    "papermill": {
     "duration": 0.253222,
     "end_time": "2021-03-29T16:45:04.246342",
     "exception": false,
     "start_time": "2021-03-29T16:45:03.993120",
     "status": "completed"
    },
    "tags": []
   },
   "outputs": [],
   "source": [
    "#Convert years to decades:\n",
    "def convert_year (year):\n",
    "    if year >=1920 and year < 1930:\n",
    "        return '20s'\n",
    "    elif year >=1930 and year < 1940:\n",
    "        return '30s'\n",
    "    elif year >=1940 and year < 1950:\n",
    "        return '40s'\n",
    "    elif year >=1950 and year < 1960:\n",
    "        return '50s'\n",
    "    elif year >=1960 and year < 1970:\n",
    "        return '60s'\n",
    "    elif year >=1970 and year < 1980:\n",
    "        return '70s'\n",
    "    elif year >=1980 and year < 1990:\n",
    "        return '80s'\n",
    "    elif year >=1990 and year < 2000:\n",
    "        return '90s'\n",
    "    elif year >=2000 and year < 2010:\n",
    "        return '2000s'\n",
    "    elif year >=2010:\n",
    "        return '2010 & newer'\n",
    "data['decades']=data.year.apply(convert_year)"
   ]
  },
  {
   "cell_type": "markdown",
   "metadata": {},
   "source": [
    "Assign decades to the dataset:"
   ]
  },
  {
   "cell_type": "code",
   "execution_count": null,
   "metadata": {
    "_kg_hide-input": true,
    "execution": {
     "iopub.execute_input": "2021-03-29T16:45:04.435497Z",
     "iopub.status.busy": "2021-03-29T16:45:04.434499Z",
     "iopub.status.idle": "2021-03-29T16:45:04.481066Z",
     "shell.execute_reply": "2021-03-29T16:45:04.480284Z"
    },
    "papermill": {
     "duration": 0.144417,
     "end_time": "2021-03-29T16:45:04.481242",
     "exception": false,
     "start_time": "2021-03-29T16:45:04.336825",
     "status": "completed"
    },
    "scrolled": true,
    "tags": []
   },
   "outputs": [],
   "source": [
    "data[['artists','name','year','decades']]"
   ]
  },
  {
   "cell_type": "markdown",
   "metadata": {
    "papermill": {
     "duration": 0.09085,
     "end_time": "2021-03-29T16:45:04.669925",
     "exception": false,
     "start_time": "2021-03-29T16:45:04.579075",
     "status": "completed"
    },
    "tags": []
   },
   "source": [
    "The most popular artists of each generation:"
   ]
  },
  {
   "cell_type": "code",
   "execution_count": null,
   "metadata": {
    "_kg_hide-input": true,
    "execution": {
     "iopub.execute_input": "2021-03-29T16:45:04.868966Z",
     "iopub.status.busy": "2021-03-29T16:45:04.868053Z",
     "iopub.status.idle": "2021-03-29T16:45:05.040649Z",
     "shell.execute_reply": "2021-03-29T16:45:05.041114Z"
    },
    "papermill": {
     "duration": 0.277453,
     "end_time": "2021-03-29T16:45:05.041340",
     "exception": false,
     "start_time": "2021-03-29T16:45:04.763887",
     "status": "completed"
    },
    "scrolled": true,
    "tags": []
   },
   "outputs": [],
   "source": [
    "artist_group = pd.DataFrame(data.groupby(['decades','artists'])['popularity'].mean()).sort_values(['popularity'],ascending=False)\n",
    "artist_group.reset_index(inplace=True)\n",
    "artist_group['rank'] = artist_group.groupby('decades')['popularity'].rank(method='first',ascending=False)\n",
    "artist_group[artist_group['rank']==1.0]"
   ]
  },
  {
   "cell_type": "markdown",
   "metadata": {
    "papermill": {
     "duration": 0.093396,
     "end_time": "2021-03-29T16:45:05.232734",
     "exception": false,
     "start_time": "2021-03-29T16:45:05.139338",
     "status": "completed"
    },
    "tags": []
   },
   "source": [
    "The six radar charts below show six music generations’ features, from the 60s to 2010, following with the most popular artist of that time. The grey hexagon underneath shows the time period’s average, and the colored one is the artist’s characteristics"
   ]
  },
  {
   "cell_type": "code",
   "execution_count": null,
   "metadata": {
    "_kg_hide-input": true,
    "execution": {
     "iopub.execute_input": "2021-03-29T16:45:05.427440Z",
     "iopub.status.busy": "2021-03-29T16:45:05.426406Z",
     "iopub.status.idle": "2021-03-29T16:45:07.763952Z",
     "shell.execute_reply": "2021-03-29T16:45:07.764455Z"
    },
    "papermill": {
     "duration": 2.436677,
     "end_time": "2021-03-29T16:45:07.764630",
     "exception": false,
     "start_time": "2021-03-29T16:45:05.327953",
     "status": "completed"
    },
    "tags": []
   },
   "outputs": [],
   "source": [
    "#Get the numeric featrure of those most poplar artists from th 60s\n",
    "artist_g_top6 = artist_df[artist_df.artists.isin(['24kGoldn','Frank Sinatra','Grover Washington, Jr.','Shakira','The Beach Boys','Earth, Wind & Fire'])]\n",
    "artist_g_top6.reset_index(inplace=True)\n",
    "artist_g_top6['decades'] = ['2010 & newer','70s','90s','80s','2000s','60s']\n",
    "artist_g_top6_num = artist_g_top6[['acousticness','danceability','energy','loudness','tempo','valence']]\n",
    "artist_g_top6 = artist_g_top6.reset_index()\n",
    "\n",
    "#Scale those numeric feature based on the main dataset so they can be plotted on the same charts\n",
    "scaler = MinMaxScaler()\n",
    "scaler.fit(artist_df[['acousticness','danceability','energy','loudness','tempo','valence']])\n",
    "art6_scale = pd.DataFrame(scaler.transform(artist_g_top6_num))\n",
    "art6_scale.columns = ['acousticness','danceability','energy','loudness','tempo','valence']\n",
    "art6_scale['artists'] = artist_g_top6['artists']\n",
    "art6_scale.columns = ['acousticness','danceability', 'energy', 'loudness', 'tempo','valence', 'artists']\n",
    "art6_scale['decades']=artist_g_top6['decades']\n",
    "\n",
    "#sort the data by decades and make places for the average value for decades\n",
    "art6_scale=art6_scale.sort_values(by='decades').reset_index().drop('index',axis=1)\n",
    "art6_scale=art6_scale.reindex([2,3,4,5,0,1]).reset_index().drop('index',axis=1)\n",
    "art6_scale.index = [0,2,4,6,8,10]\n",
    "\n",
    "#Calualte the average of numeric value for different decades\n",
    "avg_df = data.groupby('decades')['acousticness','danceability','energy','loudness','tempo','valence'].mean().reset_index()\n",
    "avg_df=avg_df.drop(avg_df.index[2:6])\n",
    "avg_df['artists'] = 'average'\n",
    "avg_df = avg_df[['acousticness','danceability','energy','loudness','tempo','valence','artists','decades']].reset_index().drop('index',axis=1)\n",
    "\n",
    "#Reindex the average and combine them into the artist df\n",
    "avg_df = avg_df.reindex([2,3,4,5,0,1]).reset_index().drop('index',axis=1)\n",
    "scaler.fit(artist_df[['acousticness','danceability','energy','loudness','tempo','valence']])\n",
    "avg_df_scale = pd.DataFrame(scaler.transform(avg_df[['acousticness','danceability','energy','loudness','tempo','valence']]))\n",
    "avg_df_scale.columns = ['acousticness','danceability','energy','loudness','tempo','valence']\n",
    "avg_df_scale[['artists','decades']]=avg_df[['artists','decades']]\n",
    "avg_df_scale.index = [1,3,5,7,9,11]\n",
    "art6_scale=pd.concat([art6_scale,avg_df_scale],axis=0)\n",
    "art6_scale.sort_index(inplace=True)\n",
    "\n",
    "#Define a function that do a plot for one radar chart\n",
    " \n",
    "def make_spider( row, title, color):\n",
    "\n",
    "    # number of variable\n",
    "    categories=list(art6_scale)[:-2]\n",
    "    N = len(categories)\n",
    "\n",
    "    # What will be the angle of each axis in the plot? (we divide the plot / number of variable)\n",
    "    angles = [n / float(N) * 2 * pi for n in range(N)]\n",
    "    angles += angles[:1]\n",
    "\n",
    "    # Initialise the spider plot\n",
    "    ax = plt.subplot(2,3,ind, polar=True, )\n",
    "\n",
    "    # If you want the first axis to be on top:\n",
    "    ax.set_theta_offset(pi / 2)\n",
    "    ax.set_theta_direction(-1)\n",
    "\n",
    "    # Draw one axe per variable + add labels labels yet\n",
    "    plt.xticks(angles[:-1], categories, color='grey', size=8)\n",
    "\n",
    "    # Draw ylabels\n",
    "    ax.set_rlabel_position(0)\n",
    "    plt.yticks([0.2,0.4,0.6,0.8], [\"0.2\",\"0.4\",\"0.6\",\"0.8\"], color=\"grey\", size=7)\n",
    "    plt.ylim(0,1)\n",
    "\n",
    "    # Ind1\n",
    "    values=art6_scale.loc[row].drop(['artists','decades']).values.flatten().tolist()\n",
    "    values += values[:1]\n",
    "    avg_values = art6_scale.loc[row+1].drop(['artists','decades']).values.flatten().tolist()\n",
    "    avg_values+=avg_values[:1]\n",
    "    ax.plot(angles, avg_values, color='grey', linewidth=0, linestyle='solid')\n",
    "    ax.plot(angles, values, color=color, linewidth=2, linestyle='solid')\n",
    "    ax.fill(angles, values, color=color, alpha=0.8)\n",
    "    ax.fill(angles, avg_values, color='grey', alpha=0.6)\n",
    "\n",
    "    # Add a title\n",
    "    plt.title(title, size=11, color=color, y=1.1)\n",
    "\n",
    "    \n",
    "# Apply the function to all records\n",
    "# initialize the figure\n",
    "my_dpi=96\n",
    "plt.figure(figsize=(1200/my_dpi, 1200/my_dpi), dpi=my_dpi)\n",
    " \n",
    "# Create a color palette:\n",
    "my_palette = plt.cm.get_cmap(\"Set1\")\n",
    " \n",
    "# Loop to plot\n",
    "ind = 0\n",
    "for row in range(0, len(art6_scale.index),2):\n",
    "    ind +=1\n",
    "    make_spider( row=row, title=art6_scale['decades'][row]+':'+'\\n'+art6_scale['artists'][row], color=my_palette(ind))"
   ]
  },
  {
   "cell_type": "markdown",
   "metadata": {
    "papermill": {
     "duration": 0.107038,
     "end_time": "2021-03-29T16:45:07.981649",
     "exception": false,
     "start_time": "2021-03-29T16:45:07.874611",
     "status": "completed"
    },
    "tags": []
   },
   "source": [
    "Now let's Combine Key and Mode in the dataset:"
   ]
  },
  {
   "cell_type": "code",
   "execution_count": null,
   "metadata": {
    "_kg_hide-input": true,
    "execution": {
     "iopub.execute_input": "2021-03-29T16:45:08.193394Z",
     "iopub.status.busy": "2021-03-29T16:45:08.192385Z",
     "iopub.status.idle": "2021-03-29T16:45:08.408221Z",
     "shell.execute_reply": "2021-03-29T16:45:08.408740Z"
    },
    "papermill": {
     "duration": 0.322202,
     "end_time": "2021-03-29T16:45:08.408979",
     "exception": false,
     "start_time": "2021-03-29T16:45:08.086777",
     "status": "completed"
    },
    "scrolled": true,
    "tags": []
   },
   "outputs": [],
   "source": [
    "#Map and convert the key and mode\n",
    "key_mapping = {0:\"C\",1:\"C#\",2:\"D\",3:\"D#\",4:\"E\",5:\"F\",6:\"F#\",7:\"G\",8:\"G#\",9:\"A\",10:\"A#\",11:\"B\"}\n",
    "mode_mapping = {0:\"Minor\",1:\"Major\"}\n",
    "key_name = data.key.map(key_mapping)\n",
    "mode_name= data['mode'].map(mode_mapping)\n",
    "data['key_mode'] = key_name+' '+mode_name\n",
    "data[['name','key','mode','key_mode']]"
   ]
  },
  {
   "cell_type": "markdown",
   "metadata": {
    "papermill": {
     "duration": 0.100965,
     "end_time": "2021-03-29T16:45:08.613371",
     "exception": false,
     "start_time": "2021-03-29T16:45:08.512406",
     "status": "completed"
    },
    "tags": []
   },
   "source": [
    "Race chart animation of music keys being used over the years:"
   ]
  },
  {
   "cell_type": "code",
   "execution_count": null,
   "metadata": {
    "_kg_hide-input": true,
    "execution": {
     "iopub.execute_input": "2021-03-29T16:45:08.901706Z",
     "iopub.status.busy": "2021-03-29T16:45:08.899866Z",
     "iopub.status.idle": "2021-03-29T16:47:31.341897Z",
     "shell.execute_reply": "2021-03-29T16:47:27.708462Z"
    },
    "papermill": {
     "duration": 142.628268,
     "end_time": "2021-03-29T16:47:31.342223",
     "exception": false,
     "start_time": "2021-03-29T16:45:08.713955",
     "status": "completed"
    },
    "scrolled": false,
    "tags": []
   },
   "outputs": [],
   "source": [
    "#Count the number of Key used\n",
    "key_count = pd.DataFrame(data.key_mode.value_counts()).reset_index()\n",
    "key_count.columns=['key_name','counts']\n",
    "\n",
    "#recoder and reformat the key counts by years\n",
    "column_list = key_count['key_name'].values\n",
    "ani_bar_df = data.groupby('year')['key_mode'].value_counts().unstack().reset_index()\n",
    "ani_bar_df_cum = ani_bar_df.cumsum()\n",
    "ani_bar_df_cum['year']=ani_bar_df['year']\n",
    "ani_bar_df_cum.set_index('year',inplace=True)\n",
    "ani_bar_df_cum=ani_bar_df_cum[column_list]\n",
    "\n",
    "#Select data from 1950 to present\n",
    "ani_bar_df_cum = ani_bar_df_cum.iloc[30:,:]\n",
    "\n",
    "#prepare the data for animation\n",
    "def prepare_data(df, steps=5):\n",
    "    df = df.reset_index()\n",
    "    df.index = df.index * steps\n",
    "    last_idx = df.index[-1] + 1\n",
    "    df_expanded = df.reindex(range(last_idx))\n",
    "    df_expanded['year'] = df_expanded['year'].fillna(method='ffill')\n",
    "    df_expanded = df_expanded.set_index('year')\n",
    "    df_rank_expanded = df_expanded.rank(axis=1, method='first')\n",
    "    df_expanded = df_expanded.interpolate()\n",
    "    df_rank_expanded = df_rank_expanded.interpolate()\n",
    "    return df_expanded, df_rank_expanded\n",
    "\n",
    "df_expanded, df_rank_expanded = prepare_data(ani_bar_df_cum)\n",
    "\n",
    "#draw a race chart\n",
    "def nice_axes(ax):\n",
    "    ax.set_facecolor('.8')\n",
    "    ax.tick_params(labelsize=20, length=0)\n",
    "    ax.grid(True, axis='x', color='white')\n",
    "    ax.set_axisbelow(True)\n",
    "    [spine.set_visible(False) for spine in ax.spines.values()]\n",
    "    \n",
    "def init():\n",
    "    ax.clear()\n",
    "    nice_axes(ax)\n",
    "    ax.set_ylim(.2, 6.8)\n",
    "colors = plt.cm.Paired(range(12))\n",
    "labels = df_expanded.columns\n",
    "def update(i):\n",
    "    for bar in ax.containers:\n",
    "        bar.remove()\n",
    "    y = df_rank_expanded.iloc[i]\n",
    "    width = df_expanded.iloc[i]\n",
    "    ax.barh(y=y, width=width, color=colors, tick_label=labels)\n",
    "    date_str = round(df_expanded.index[i])\n",
    "    ax.set_title(date_str,x=0.7, y=0.3, fontsize=100)\n",
    "    \n",
    "fig = plt.Figure(figsize=(20, 10), dpi=144)\n",
    "ax = fig.add_subplot()\n",
    "\n",
    "#make animation\n",
    "anim = FuncAnimation(fig=fig, func=update, init_func=init, frames=len(df_expanded), \n",
    "                     interval=100, repeat=False)\n",
    "HTML(anim.to_jshtml())"
   ]
  },
  {
   "cell_type": "code",
   "execution_count": null,
   "metadata": {},
   "outputs": [],
   "source": [
    "anim.save('animation.mp4', writer='ffmpeg', fps=30)"
   ]
  },
  {
   "cell_type": "markdown",
   "metadata": {
    "papermill": {
     "duration": 2.26139,
     "end_time": "2021-03-29T16:47:35.888488",
     "exception": false,
     "start_time": "2021-03-29T16:47:33.627098",
     "status": "completed"
    },
    "tags": []
   },
   "source": [
    "The most popular song of each key:"
   ]
  },
  {
   "cell_type": "code",
   "execution_count": null,
   "metadata": {
    "scrolled": false
   },
   "outputs": [],
   "source": [
    "#get the most popular track for each key\n",
    "data_key_rank = data.copy()\n",
    "data_key_rank['rank']=data.groupby('key_mode')['popularity'].rank(method='first',ascending=False)\n",
    "data_key_rank[data_key_rank['rank']==1]\n",
    "data_key_rank['song_artist'] =data_key_rank.name + ' '+'-'+' '+ data_key_rank.artists.str.strip('[\\'\\\"]')\n",
    "data_key_rank = data_key_rank[data_key_rank['rank']==1]\n",
    "\n",
    "#merge with key counts to show number of tracks with each key\n",
    "bar_df = pd.merge(key_count,data_key_rank, left_on='key_name',right_on='key_mode')\n",
    "bar_df = bar_df[['key_name','counts','song_artist']]\n",
    "\n",
    "#reduce the lenth of artist and tracks name\n",
    "bar_df = pd.merge(key_count,data_key_rank, left_on='key_name',right_on='key_mode')\n",
    "bar_df = bar_df[['key_name','counts','song_artist']]\n",
    "bar_df.loc[bar_df.key_name=='C# Major','song_artist'] = 'WAP - Cardi B'\n",
    "bar_df.loc[bar_df.key_name=='G Major','song_artist'] = 'LA NOCHE DE ANOCHE - Bad Bunny'\n",
    "bar_df.loc[bar_df.key_name=='G# Major','song_artist'] = 'Head & Heart - Joel Corry'\n",
    "bar_df.loc[bar_df.key_name=='F# Major','song_artist'] = 'Holy - Justin Bieber'\n",
    "bar_df.loc[bar_df.key_name=='B Major','song_artist'] = 'ROCKSTAR - DaBaby'\n",
    "bar_df.loc[bar_df.key_name=='F# Minor','song_artist'] = 'For The Night - Lil Baby'\n",
    "bar_df.loc[bar_df.key_name=='D Minor','song_artist'] = 'Monster - Shawn Mendes'\n",
    "bar_df.loc[bar_df.key_name=='G Minor','song_artist'] = 'Mood - 24kGoldn'\n",
    "bar_df.loc[bar_df.key_name=='C Minor','song_artist'] = 'Chica Ideal - Sebastian Yatra'\n",
    "\n",
    "# Re-order the dataframe\n",
    "df = bar_df.sort_values(by=['counts'])\n",
    "\n",
    "# initialize the figure\n",
    "plt.figure(figsize=(20,10))\n",
    "ax = plt.subplot(111, polar=True)\n",
    "plt.axis('off')\n",
    "\n",
    "# Constants = parameters controling the plot layout:\n",
    "upperLimit = 100\n",
    "lowerLimit = 30\n",
    "labelPadding = 4\n",
    "\n",
    "# Compute max and min in the dataset\n",
    "max = df['counts'].max()\n",
    "\n",
    "# Let's compute heights: they are a conversion of each item value in those new coordinates\n",
    "# 0 in the dataset will be converted to the lowerLimit (10)\n",
    "# The maximum will be converted to the upperLimit (100)\n",
    "slope = (max - lowerLimit) / max\n",
    "heights = slope * df.counts + lowerLimit\n",
    "\n",
    "# Compute the width of each bar. In total we have 2*Pi = 360°\n",
    "width = 2*np.pi / len(df.index)\n",
    "\n",
    "# Compute the angle each bar is centered on:\n",
    "indexes = list(range(1, len(df.index)+1))\n",
    "angles = [element * width for element in indexes]\n",
    "angles\n",
    "\n",
    "# Draw bars\n",
    "bars = ax.bar(\n",
    "    x=angles, \n",
    "    height=heights, \n",
    "    width=width, \n",
    "    bottom=lowerLimit,\n",
    "    linewidth=2, \n",
    "    edgecolor=\"white\",\n",
    "    color=\"#61a4b2\"\n",
    ")\n",
    "\n",
    "# Add labels\n",
    "for bar, angle, height, label in zip(bars,angles, heights, df[\"key_name\"]+ ':'+' ' +df['song_artist']):\n",
    "\n",
    "    # Labels are rotated. Rotation must be specified in degrees :(\n",
    "    rotation = np.rad2deg(angle)\n",
    "\n",
    "    # Flip some labels upside down\n",
    "    alignment = \"\"\n",
    "    if angle >= np.pi/2 and angle < 3*np.pi/2:\n",
    "        alignment = \"right\"\n",
    "        rotation = rotation + 180\n",
    "    else: \n",
    "        alignment = \"left\"\n",
    "\n",
    "    # Finally add the labels\n",
    "    ax.text(\n",
    "        x=angle, \n",
    "        y=lowerLimit + bar.get_height() + labelPadding, \n",
    "        s=label, \n",
    "        ha=alignment, \n",
    "        va='center', \n",
    "        rotation=rotation, \n",
    "        rotation_mode=\"anchor\") "
   ]
  },
  {
   "cell_type": "markdown",
   "metadata": {},
   "source": [
    "### To be continued..."
   ]
  }
 ],
 "metadata": {
  "hide_input": false,
  "kernelspec": {
   "display_name": "Python 3",
   "language": "python",
   "name": "python3"
  },
  "language_info": {
   "codemirror_mode": {
    "name": "ipython",
    "version": 3
   },
   "file_extension": ".py",
   "mimetype": "text/x-python",
   "name": "python",
   "nbconvert_exporter": "python",
   "pygments_lexer": "ipython3",
   "version": "3.7.6"
  },
  "papermill": {
   "default_parameters": {},
   "duration": 214.955771,
   "end_time": "2021-03-29T16:47:50.071993",
   "environment_variables": {},
   "exception": null,
   "input_path": "__notebook__.ipynb",
   "output_path": "__notebook__.ipynb",
   "parameters": {},
   "start_time": "2021-03-29T16:44:15.116222",
   "version": "2.2.2"
  }
 },
 "nbformat": 4,
 "nbformat_minor": 4
}
