{
 "cells": [
  {
   "cell_type": "markdown",
   "metadata": {},
   "source": [
    "### 1. Introduction"
   ]
  },
  {
   "cell_type": "markdown",
   "metadata": {},
   "source": [
    "In this notebook, I visualized music tack data from the Kaggle Spotify datasets which contain more than 170 thoudsands tacks from 30,000 artist over the last 100 years. This notebook has essential data exprlation analysis and also try to find out how music has envolved across the years.<br>\n",
    "As far as I am concerned the limitation of this analysis is the scope of Soptify's track collection, later when we see the distribution of tracks, it has much more records in the recent 3 years and but few in early 20s-50s. Another limitation is the popularity score only reflects the preference of Spotify users(likely to be relatiativly young gorup), and also the popularity is scored in the current time, it might shows how people like old music nowadays, not neccessasryly shows how the classic track's popularity back in the time(a good feature for this will be the record sales for the album).\n",
    "\n",
    "The datasets has the following features and definitions:<br>\n",
    "- __duration_ms:__<br>\n",
    "    The length of the track in milliseconds (ms)\n",
    "- __artists:__<br>\n",
    "    The list of artists credited for production of the track\n",
    "- __year:__<br>\n",
    "    The release year of track\n",
    "- __key:__<br>\n",
    "    The primary key of the track encoded as integers in between 0 and 11\n",
    "- __mode:__<br>\n",
    "    The binary value representing whether the track starts with a major (1) chord progression or not (0)\n",
    "- __release_date:__<br>\n",
    "    The date of release of the track in yyyy-mm-dd, yyyy-mm, or even yyyy format\n",
    "- __acousticness:__<br>\n",
    "    The relative metric of the track being acoustic\n",
    "- __danceability:__<br>\n",
    "    The relative measurement of the track being danceable\n",
    "- __energy:__<br>\n",
    "    The energy of the track\n",
    "- __instrumentalness:__<br>\n",
    "    The relative ratio of the track being instrumental\n",
    "- __liveness:__<br>\n",
    "    The relative duration of the track sounding as a live performance\n",
    "- __loudness:__<br>\n",
    "    Relative loudness of the track in the typical range [-60, 0] in decibel (dB)\n",
    "- __speechiness:__<br>\n",
    "    The relative length of the track containing any kind of human voice\n",
    "- __valence:__<br>\n",
    "    The positiveness of the track\n",
    "- __tempo:__<br>\n",
    "    The tempo of the track in Beat Per Minute (BPM)\n",
    "- __name:__<br>\n",
    "    The title of the track\n",
    "- __popularity:__<br>\n",
    "    The popularity of the song lately, default country = US"
   ]
  },
  {
   "cell_type": "markdown",
   "metadata": {},
   "source": [
    "#### Import libraries"
   ]
  },
  {
   "cell_type": "code",
   "execution_count": null,
   "metadata": {},
   "outputs": [],
   "source": [
    "import numpy as np\n",
    "import pandas as pd\n",
    "import seaborn as sns\n",
    "import matplotlib.pyplot as plt\n",
    "from math import pi\n",
    "import warnings\n",
    "warnings.filterwarnings('ignore')\n",
    "from IPython.display import YouTubeVideo\n",
    "from IPython.display import Audio\n",
    "from sklearn.preprocessing import MinMaxScaler\n",
    "from matplotlib.colors import ListedColormap\n",
    "import matplotlib.animation as ani\n",
    "from IPython.display import HTML\n",
    "from matplotlib import animation, rc\n",
    "%matplotlib inline\n",
    "from matplotlib.animation import FuncAnimation, PillowWriter\n",
    "import matplotlib\n",
    "matplotlib.rcParams['animation.embed_limit'] = 2**128\n",
    "import matplotlib.patches as mpatches"
   ]
  },
  {
   "cell_type": "markdown",
   "metadata": {},
   "source": [
    "#### Import datasets"
   ]
  },
  {
   "cell_type": "markdown",
   "metadata": {},
   "source": [
    "Kaggle has provided 4 datasets:\n",
    "- data: the main dataset that based on each track\n",
    "- data_by_artist: The average of features group by each artist\n",
    "- data_by_genres: The average of features group by each genres, this is the only dataset that has genres information\n",
    "- data_by_year: The average of features group by each year"
   ]
  },
  {
   "cell_type": "code",
   "execution_count": null,
   "metadata": {},
   "outputs": [],
   "source": [
    "data = pd.read_csv('data.csv')\n",
    "data.shape"
   ]
  },
  {
   "cell_type": "code",
   "execution_count": null,
   "metadata": {
    "scrolled": true
   },
   "outputs": [],
   "source": [
    "data.head()"
   ]
  },
  {
   "cell_type": "markdown",
   "metadata": {},
   "source": [
    "clear up the format of artists column:"
   ]
  },
  {
   "cell_type": "code",
   "execution_count": null,
   "metadata": {
    "scrolled": true
   },
   "outputs": [],
   "source": [
    "data.artists = data['artists'].str.replace('[','')\n",
    "data.artists = data['artists'].str.replace(']','')\n",
    "data.artists = data['artists'].str.replace(\"'\",'')\n",
    "data.artists = data['artists'].str.replace('\"','')\n",
    "data.artists"
   ]
  },
  {
   "cell_type": "code",
   "execution_count": null,
   "metadata": {},
   "outputs": [],
   "source": [
    "artist_df = pd.read_csv('data_by_artist.csv')\n",
    "artist_df.shape"
   ]
  },
  {
   "cell_type": "code",
   "execution_count": null,
   "metadata": {},
   "outputs": [],
   "source": [
    "artist_df.head()"
   ]
  },
  {
   "cell_type": "code",
   "execution_count": null,
   "metadata": {},
   "outputs": [],
   "source": [
    "genres_df = pd.read_csv('data_by_genres.csv')\n",
    "genres_df.shape"
   ]
  },
  {
   "cell_type": "code",
   "execution_count": null,
   "metadata": {},
   "outputs": [],
   "source": [
    "genres_df.head()"
   ]
  },
  {
   "cell_type": "code",
   "execution_count": null,
   "metadata": {
    "scrolled": true
   },
   "outputs": [],
   "source": [
    "year_df = pd.read_csv('data_by_year.csv')\n",
    "year_df.shape"
   ]
  },
  {
   "cell_type": "code",
   "execution_count": null,
   "metadata": {},
   "outputs": [],
   "source": [
    "year_df.head()"
   ]
  },
  {
   "cell_type": "markdown",
   "metadata": {},
   "source": [
    "### 2. EDA"
   ]
  },
  {
   "cell_type": "code",
   "execution_count": null,
   "metadata": {},
   "outputs": [],
   "source": [
    "data.info()"
   ]
  },
  {
   "cell_type": "code",
   "execution_count": null,
   "metadata": {},
   "outputs": [],
   "source": [
    "#Describe those numeric features\n",
    "data[['acousticness','danceability','energy','liveness','loudness','mode','popularity','speechiness','tempo','valence']].describe()"
   ]
  },
  {
   "cell_type": "markdown",
   "metadata": {},
   "source": [
    "we can see that some features has it's own range, such as loudness can go from -60 to 3.85, Tempos are from 0 to 243, but the rest seems are only from 0 - 1"
   ]
  },
  {
   "cell_type": "markdown",
   "metadata": {},
   "source": [
    "#### What are those Maximum and Minimum sounds like? It is a music dataset, let's hear them!"
   ]
  },
  {
   "cell_type": "markdown",
   "metadata": {},
   "source": [
    "The loudest Track:"
   ]
  },
  {
   "cell_type": "code",
   "execution_count": null,
   "metadata": {
    "scrolled": false
   },
   "outputs": [],
   "source": [
    "df_loud = data.sort_values('loudness',ascending=False).head().reset_index()\n",
    "df_loud[['artists','name','loudness']]"
   ]
  },
  {
   "cell_type": "markdown",
   "metadata": {},
   "source": [
    "One of the loudest track: 'Your Pretty Face Is Going to Hell'(turn down your volume)"
   ]
  },
  {
   "cell_type": "code",
   "execution_count": null,
   "metadata": {
    "scrolled": false
   },
   "outputs": [],
   "source": [
    "audio_loud = Audio(filename='Your Pretty Face Is Going to Hell.mp3')\n",
    "audio_loud"
   ]
  },
  {
   "cell_type": "markdown",
   "metadata": {},
   "source": [
    "The most energetic track:"
   ]
  },
  {
   "cell_type": "code",
   "execution_count": null,
   "metadata": {
    "scrolled": true
   },
   "outputs": [],
   "source": [
    "df_energy = data.sort_values(['energy','popularity'],ascending=False).head().reset_index()\n",
    "df_energy[['artists','name','energy']]"
   ]
  },
  {
   "cell_type": "markdown",
   "metadata": {},
   "source": [
    "Suprisingly the top 4 energitic tracks are all rain sound recordings, it might due to how the Spotify's algorism calcualte energy score"
   ]
  },
  {
   "cell_type": "code",
   "execution_count": null,
   "metadata": {
    "scrolled": true
   },
   "outputs": [],
   "source": [
    "audio_energy = Audio(filename='Forest Rain.mp3')\n",
    "audio_energy"
   ]
  },
  {
   "cell_type": "markdown",
   "metadata": {},
   "source": [
    "The most dancible track:"
   ]
  },
  {
   "cell_type": "code",
   "execution_count": null,
   "metadata": {},
   "outputs": [],
   "source": [
    "df_dance = data.sort_values(['danceability','popularity'],ascending=False).head().reset_index()\n",
    "df_dance[['artists','name','danceability']]"
   ]
  },
  {
   "cell_type": "markdown",
   "metadata": {},
   "source": [
    "One of the top five track:"
   ]
  },
  {
   "cell_type": "code",
   "execution_count": null,
   "metadata": {},
   "outputs": [],
   "source": [
    "audio_dance = Audio(filename='Tone-Loc Funky Cold Medina.mp3')\n",
    "audio_dance"
   ]
  },
  {
   "cell_type": "markdown",
   "metadata": {},
   "source": [
    "The happiest tracks:"
   ]
  },
  {
   "cell_type": "code",
   "execution_count": null,
   "metadata": {
    "scrolled": false
   },
   "outputs": [],
   "source": [
    "df_happy = data.sort_values(['valence','popularity'],ascending=False).head().reset_index()\n",
    "df_happy[['artists','name','valence']]"
   ]
  },
  {
   "cell_type": "code",
   "execution_count": null,
   "metadata": {
    "scrolled": true
   },
   "outputs": [],
   "source": [
    "audio_happy = Audio(filename='Pasito Duranguense.mp3')\n",
    "audio_happy"
   ]
  },
  {
   "cell_type": "markdown",
   "metadata": {},
   "source": [
    "The most clam tracks:"
   ]
  },
  {
   "cell_type": "code",
   "execution_count": null,
   "metadata": {},
   "outputs": [],
   "source": [
    "df_sad = data.sort_values(['valence','popularity'],ascending=(True,False)).head().reset_index()\n",
    "df_sad[['artists','name','valence']]"
   ]
  },
  {
   "cell_type": "markdown",
   "metadata": {},
   "source": [
    "Seems the most non-positive trakcs are those white noise recording that help people sleep:"
   ]
  },
  {
   "cell_type": "code",
   "execution_count": null,
   "metadata": {},
   "outputs": [],
   "source": [
    "audio_clam = Audio(filename='Clean White Noise - Loopable With No Fade.mp3')\n",
    "audio_clam"
   ]
  },
  {
   "cell_type": "markdown",
   "metadata": {},
   "source": [
    "Most popular artists:"
   ]
  },
  {
   "cell_type": "code",
   "execution_count": null,
   "metadata": {},
   "outputs": [],
   "source": [
    "artist_pop = pd.DataFrame(data.groupby('artists')['popularity'].mean().reset_index())\n",
    "artist_pop = artist_pop.sort_values(['popularity'],ascending=(False)).head(20).reset_index().drop('index',axis=1)\n",
    "plt.figure(figsize=(10,6))\n",
    "# make barplot\n",
    "sns.barplot(x=artist_pop.popularity, y=artist_pop.artists, data=artist_pop)\n",
    "plt.show()"
   ]
  },
  {
   "cell_type": "markdown",
   "metadata": {},
   "source": [
    "#### Feature Distrubutions"
   ]
  },
  {
   "cell_type": "code",
   "execution_count": null,
   "metadata": {},
   "outputs": [],
   "source": [
    "f, axes = plt.subplots(3, 3, figsize=(13, 14), sharex=False)\n",
    "sns.distplot( data[\"acousticness\"] , color=\"skyblue\", ax=axes[0, 0])\n",
    "sns.distplot( data[\"danceability\"] , color=\"olive\", ax=axes[0, 1])\n",
    "sns.distplot( data[\"energy\"] , color=\"gold\", ax=axes[0, 2])\n",
    "sns.distplot( data[\"liveness\"] , color=\"yellowgreen\",ax=axes[1, 0])\n",
    "sns.distplot( data[\"loudness\"] , color=\"wheat\", ax=axes[1, 1])\n",
    "sns.distplot( data[\"popularity\"] , color=\"teal\", ax=axes[1, 2])\n",
    "sns.distplot( data[\"speechiness\"] , color=\"palegreen\", ax=axes[2, 0])\n",
    "sns.distplot( data[\"tempo\"] , color=\"orchid\", ax=axes[2, 1])\n",
    "sns.distplot( data[\"valence\"] , color=\"lightblue\", ax=axes[2, 2])"
   ]
  },
  {
   "cell_type": "markdown",
   "metadata": {},
   "source": [
    "From those charts we can see:<br>\n",
    "1.Most of the track is not live and has none or few speech in it (for example raps will have certain 'speech' level in the song)<br>\n",
    "2.Danciability seems like normal shapes suggests it is randomly distrubuted<br>\n",
    "3.valence(sentiment) are balance in general, but with a large amount that near 1.0 - very positive and happy song. Generally, more positive songs than negative songs<br>\n",
    "4.Acuousticness is polarized, most of the tracks are either pure instrucmental or vocal, which make sense<br>\n",
    "5.Many tracks has '0' popularity, and most of the populatiry scores sit from 20 to 60"
   ]
  },
  {
   "cell_type": "markdown",
   "metadata": {},
   "source": [
    "Let's exam the year's distribution individually,the chart below shows that before 1945,there are less tracks avaiable and volitile between years, on the other hand there are very high amount of collection form 2019 to present"
   ]
  },
  {
   "cell_type": "code",
   "execution_count": null,
   "metadata": {
    "scrolled": true
   },
   "outputs": [],
   "source": [
    "sns.distplot( data[\"year\"] , color=\"olive\")\n",
    "plt.axvspan(1920, 1945, facecolor='r', alpha=0.2)"
   ]
  },
  {
   "cell_type": "markdown",
   "metadata": {},
   "source": [
    "#### Popularity - What are those 0s score?"
   ]
  },
  {
   "cell_type": "markdown",
   "metadata": {},
   "source": [
    "In the histogram matrix above, the popularity one shows a high number of 0 score records. What are those tracks that are been '0 popular'? Do they have some characteristics? Let's take a look at those and see if there is some pattens"
   ]
  },
  {
   "cell_type": "code",
   "execution_count": null,
   "metadata": {
    "scrolled": true
   },
   "outputs": [],
   "source": [
    "#some 0 popularity tracks\n",
    "mask = data.popularity==0\n",
    "data[mask].tail()"
   ]
  },
  {
   "cell_type": "code",
   "execution_count": null,
   "metadata": {
    "scrolled": true
   },
   "outputs": [],
   "source": [
    "#describe 0s\n",
    "data[mask].describe()"
   ]
  },
  {
   "cell_type": "code",
   "execution_count": null,
   "metadata": {},
   "outputs": [],
   "source": [
    "#describe non-0s\n",
    "data[data.popularity>0].describe()"
   ]
  },
  {
   "cell_type": "markdown",
   "metadata": {},
   "source": [
    "If we compare average of the 0s score records versus all data, the 0s populariy tracks are older(year 1960 vs 1982), less energitc(0.37 vs 0.51), more instrumental(0.34 vs 0.15), and more speechiness(0.19 vs 0.08)"
   ]
  },
  {
   "cell_type": "code",
   "execution_count": null,
   "metadata": {},
   "outputs": [],
   "source": [
    "#salce the feature value from 0-1 so we can place them in to one chart\n",
    "scaler = MinMaxScaler()\n",
    "df_scale = data[['year','instrumentalness','speechiness','energy','danceability','acousticness','duration_ms','liveness','loudness','tempo','valence']]\n",
    "scaler.fit(df_scale)\n",
    "df_scale = pd.DataFrame(scaler.transform(df_scale))\n",
    "df_scale.columns=['year','instrumentalness','speechiness','energy','danceability','acousticness','duration_ms','liveness','loudness','tempo','valence']\n",
    "\n",
    "#transpose columns to row\n",
    "df_violin = pd.DataFrame(df_scale.T.unstack())\n",
    "df_violin.index.rename(['ind1','ind2'],inplace=True)\n",
    "\n",
    "#Add the popularity from main dataset\n",
    "df_violin=df_violin.join(data['popularity'],on='ind1',how='inner').reset_index()\n",
    "df_violin.drop('ind1',axis=1,inplace=True)\n",
    "df_violin.columns=['feature','value','popularity']\n",
    "\n",
    "#create another column for 0 of non0\n",
    "df_violin['pop']=df_violin.popularity.apply(lambda x:'0'if x ==0 else 'Non-0')\n",
    "df_violin.drop('popularity',axis=1,inplace=True)\n",
    "\n",
    "#draw violinplot\n",
    "plt.figure(figsize=(20,8))\n",
    "sns.violinplot(x=\"feature\", y=\"value\", hue=\"pop\", data=df_violin, palette=\"Pastel1\")\n",
    "plt.show()"
   ]
  },
  {
   "cell_type": "markdown",
   "metadata": {},
   "source": [
    "The pair violin pltos shows similar results, Less energy, more acounstic are more likely to has 0 score. The most obivious are the year, 0 popular tracks are either order or newer than average. "
   ]
  },
  {
   "cell_type": "code",
   "execution_count": null,
   "metadata": {},
   "outputs": [],
   "source": [
    "#Count the 0s and non-0s for donut chart\n",
    "pop_df = pd.DataFrame(data.popularity>0)\n",
    "pop_df = pop_df.value_counts().tolist()\n",
    "\n",
    "#prepare data group by years for the bar charts\n",
    "non_0 = data[data.popularity>0].groupby('year')['popularity'].count().reset_index()\n",
    "total = data.groupby('year')['popularity'].count().reset_index()\n",
    "non_0['popularity'] = [i / j * 100 for i,j in zip(non_0['popularity'], total['popularity'])]\n",
    "total['popularity'] = [i / j * 100 for i,j in zip(total['popularity'], total['popularity'])]\n",
    "\n",
    "\n",
    "#Draw a donut chart\n",
    "names = ['Total Non-0s', 'Total 0s']\n",
    "plt.figure(figsize=(4,4))\n",
    "\n",
    "#ax1 = plt.subplot2grid((1,2),(0,0))\n",
    "my_circle = plt.Circle( (0,0), 0.6, color='white')\n",
    "plt.pie(pop_df, labels=names, colors=['palegreen','grey'],autopct='%1.2f%%',startangle=90, pctdistance=0.4)\n",
    "p = plt.gcf()\n",
    "p.gca().add_artist(my_circle)\n",
    "fig.suptitle('Overall 0s Popularity Percentage', fontsize=10)\n",
    "\n",
    "#Draw a bar chart\n",
    "# bar chart 1 -> top bars (group of 'Popularity=0')\n",
    "plt.figure(figsize=(7,7))\n",
    "#ax2 = plt.subplot2grid((1,2),(0,1))\n",
    "bar1 = sns.barplot(x=\"year\",y=\"popularity\", data=total, color='grey')\n",
    "plt.xticks(rotation=90)\n",
    "plt.locator_params(nbins=30)\n",
    "\n",
    "# bar chart 2 -> bottom bars (group of 'Popularity>0')\n",
    "bar2 = sns.barplot(x=\"year\",y=\"popularity\", data=non_0, color='palegreen')\n",
    "plt.xticks(rotation=60)\n",
    "plt.locator_params(nbins=30)\n",
    "# add legend\n",
    "top_bar = mpatches.Patch(color='grey', label='0s')\n",
    "bottom_bar = mpatches.Patch(color='palegreen', label='Non-0s')\n",
    "plt.legend(handles=[top_bar, bottom_bar])\n",
    "\n",
    "#fig.suptitle('Overall 0s Popularity Percentage', fontsize=14)\n",
    "# Show the graph\n",
    "plt.show()"
   ]
  },
  {
   "cell_type": "markdown",
   "metadata": {},
   "source": [
    "In total we have about a quarter of records (23.46%) that are 0 popular. The bar charts below shows tacks before 1955 take up the majority of those 0s score, they might be too old for people to listen to. The 'Golden Age',from 1960 to 2000, nearly every record has some popularity. On the other hand, the latest tracks that are in 2021, might be too new to have a popularity score assigned."
   ]
  },
  {
   "cell_type": "markdown",
   "metadata": {},
   "source": [
    "#### Feature Correlations"
   ]
  },
  {
   "cell_type": "code",
   "execution_count": null,
   "metadata": {},
   "outputs": [],
   "source": [
    "plt.figure(figsize=(16, 8))\n",
    "sns.set(style=\"whitegrid\")\n",
    "corr = data.corr()\n",
    "sns.heatmap(corr,annot=True,cmap='coolwarm')"
   ]
  },
  {
   "cell_type": "markdown",
   "metadata": {},
   "source": [
    "If we take a look at the popularity column, some feature are highly correlated with it. The more energetic, lounder tracks the more popular. On the other hand, less acoustic tracks are more perfereable for Spotify users. There is also a high correlation of 0.51 with feature 'year', suggested that user are more like to listen to current music.<br>\n",
    "The year's column also review some trends, we can see the music track has become less acoustic, more energic, and louder across the years.<br>\n",
    "Some other correlation pair are just make sense, for example, higher energy tracks are louder, less accoustic tracks(R&R, electronic etc) are engertic and louder."
   ]
  },
  {
   "cell_type": "markdown",
   "metadata": {},
   "source": [
    "Based on the heatmap, I picked some feature pairs that has high correlation and plot them in 2d historgram to exam thier relationship(which has better visual result due to the the amount of points in the dataset). The darker of bins in the charts, the more points lay at the same position. As we can see, Dancebility/Valence, Energy/Lounderness shows a strong positive linear relatioship, while others' correlation doesn't appear very linear. "
   ]
  },
  {
   "cell_type": "code",
   "execution_count": null,
   "metadata": {},
   "outputs": [],
   "source": [
    "fig, [(axes, axes1), (axes2, axes3),(axes4, axes5)] = plt.subplots(nrows = 3, ncols = 2, sharex = False, figsize=(12,12))\n",
    "axes.hist2d(x = data['danceability'],y = data['valence'], bins=(80, 80), cmap=plt.cm.Blues)\n",
    "axes.set_xlabel('danceability', fontsize=12)\n",
    "axes.set_ylabel('valence', fontsize=12)\n",
    "axes1.hist2d(x = data['energy'],y = data['loudness'], bins=(80, 80), cmap=plt.cm.Blues)\n",
    "axes1.set_xlabel('energy', fontsize=12)\n",
    "axes1.set_ylabel('loudness', fontsize=12)\n",
    "axes2.hist2d(x = data['energy'],y = data['popularity'], bins=(80, 80), cmap=plt.cm.Blues)\n",
    "axes2.set_xlabel('energy', fontsize=12)\n",
    "axes2.set_ylabel('popularity', fontsize=12)\n",
    "axes3.hist2d(x = data['acousticness'],y = data['popularity'], bins=(80, 80), cmap=plt.cm.Blues)\n",
    "axes3.set_xlabel('acousticness', fontsize=12)\n",
    "axes3.set_ylabel('popularity', fontsize=12)\n",
    "axes4.hist2d(x = data['energy'],y = data['acousticness'], bins=(80, 80), cmap=plt.cm.Blues)\n",
    "axes4.set_xlabel('energy', fontsize=12)\n",
    "axes4.set_ylabel('acousticness', fontsize=12)\n",
    "axes5.hist2d(x = data['loudness'],y = data['acousticness'], bins=(80, 80), cmap=plt.cm.Blues)\n",
    "axes5.set_xlabel('loudness', fontsize=12)\n",
    "axes5.set_ylabel('acousticness', fontsize=12)\n",
    "plt.show()"
   ]
  },
  {
   "cell_type": "markdown",
   "metadata": {},
   "source": [
    "#### Music Trend Analysis"
   ]
  },
  {
   "cell_type": "code",
   "execution_count": null,
   "metadata": {},
   "outputs": [],
   "source": [
    "#Extract Numeric features and set them on the same scale\n",
    "year_num = year_df[['acousticness','danceability','energy','liveness','loudness','popularity','speechiness','tempo','valence']]\n",
    "scaler = MinMaxScaler()\n",
    "scaler.fit(year_num)\n",
    "year_scale = pd.DataFrame(scaler.transform(year_num))\n",
    "year_scale.columns = ['acousticness','danceability','energy','liveness','loudness','popularity','speechiness','tempo','valence']\n",
    "year_scale['year'] = year_df['year']\n",
    "\n",
    "#Create line charts for each numeric feature across the years\n",
    "# Initialize the figure style\n",
    "plt.style.use('seaborn-darkgrid')\n",
    " \n",
    "# create a color palette\n",
    "palette = plt.get_cmap('tab10')\n",
    "\n",
    "f, axes = plt.subplots(3, 3, figsize=(13, 13), sharex=True)\n",
    "\n",
    "# multiple line plot\n",
    "\n",
    "num=0\n",
    "for column in year_scale.drop('year', axis=1):\n",
    "    num+=1\n",
    "    x = np.random.rand(9)\n",
    "    # Find the right spot on the plot\n",
    "    plt.subplot(3,3, num)\n",
    "    plt.figsize=(20, 20)\n",
    " \n",
    "    # plot every group, but discrete\n",
    "    for v in year_scale.drop('year', axis=1):\n",
    "        plt.plot(year_scale['year'], year_scale[v], marker='', color='grey', linewidth=0.6, alpha=0.3)\n",
    "        \n",
    "    # Plot the lineplot\n",
    "    plt.plot(year_scale['year'], year_scale[column], marker='', color=palette(num), linewidth=2.4, alpha=0.9, label=column)\n",
    "    \n",
    "    # Same limits for every chart\n",
    "    #plt.xlim(0,10)\n",
    "    #plt.ylim(-2,22)\n",
    " \n",
    "    # Not ticks everywhere\n",
    "    if num in range(7) :\n",
    "        plt.tick_params(labelbottom='off')\n",
    "    if num not in [1,4,7] :\n",
    "        plt.tick_params(labelleft='off')\n",
    " \n",
    "    # Add title\n",
    "    plt.title(column, loc='left', fontsize=12, fontweight=0, color=palette(num) )\n",
    "\n",
    "# general title\n",
    "plt.suptitle(\"Numeric Attributes Trend Over The Years\", fontsize=13, fontweight=0, color='black', style='italic')\n",
    " \n",
    "# Show the graph\n",
    "plt.show()"
   ]
  },
  {
   "cell_type": "markdown",
   "metadata": {},
   "source": [
    "Convert years to decades:"
   ]
  },
  {
   "cell_type": "code",
   "execution_count": null,
   "metadata": {},
   "outputs": [],
   "source": [
    "def convert_year (year):\n",
    "    if year >=1920 and year < 1930:\n",
    "        return '20s'\n",
    "    elif year >=1930 and year < 1940:\n",
    "        return '30s'\n",
    "    elif year >=1940 and year < 1950:\n",
    "        return '40s'\n",
    "    elif year >=1950 and year < 1960:\n",
    "        return '50s'\n",
    "    elif year >=1960 and year < 1970:\n",
    "        return '60s'\n",
    "    elif year >=1970 and year < 1980:\n",
    "        return '70s'\n",
    "    elif year >=1980 and year < 1990:\n",
    "        return '80s'\n",
    "    elif year >=1990 and year < 2000:\n",
    "        return '90s'\n",
    "    elif year >=2000 and year < 2010:\n",
    "        return '2000s'\n",
    "    elif year >=2010:\n",
    "        return '2010 & newer'\n",
    "data['decades']=data.year.apply(convert_year)"
   ]
  },
  {
   "cell_type": "code",
   "execution_count": null,
   "metadata": {},
   "outputs": [],
   "source": [
    "data[['artists','name','year','decades']]"
   ]
  },
  {
   "cell_type": "markdown",
   "metadata": {},
   "source": [
    "The most popular artists of it's time"
   ]
  },
  {
   "cell_type": "code",
   "execution_count": null,
   "metadata": {
    "scrolled": true
   },
   "outputs": [],
   "source": [
    "artist_group = pd.DataFrame(data.groupby(['decades','artists'])['popularity'].mean()).sort_values(['popularity'],ascending=False)\n",
    "artist_group.reset_index(inplace=True)\n",
    "artist_group['rank'] = artist_group.groupby('decades')['popularity'].rank(method='first',ascending=False)\n",
    "artist_group[artist_group['rank']==1.0]"
   ]
  },
  {
   "cell_type": "code",
   "execution_count": null,
   "metadata": {},
   "outputs": [],
   "source": [
    "#Get the numeric featrure of those most poplar artists from th 60s\n",
    "artist_g_top6 = artist_df[artist_df.artists.isin(['24kGoldn','Frank Sinatra','Grover Washington, Jr.','Shakira','The Beach Boys','Earth, Wind & Fire'])]\n",
    "artist_g_top6.reset_index(inplace=True)\n",
    "artist_g_top6['decades'] = ['2010 & newer','70s','90s','80s','2000s','60s']\n",
    "artist_g_top6_num = artist_g_top6[['acousticness','danceability','energy','loudness','tempo','valence']]\n",
    "artist_g_top6 = artist_g_top6.reset_index()\n",
    "\n",
    "#Scale those numeric feature based on the main dataset so they can be plotted on the same charts\n",
    "scaler = MinMaxScaler()\n",
    "scaler.fit(artist[['acousticness','danceability','energy','loudness','tempo','valence']])\n",
    "art6_scale = pd.DataFrame(scaler.transform(artist_g_top6_num))\n",
    "art6_scale.columns = ['acousticness','danceability','energy','loudness','tempo','valence']\n",
    "art6_scale['artists'] = artist_g_top6['artists']\n",
    "art6_scale.columns = ['acousticness','danceability', 'energy', 'loudness', 'tempo','valence', 'artists']\n",
    "art6_scale['decades']=artist_g_top6['decades']\n",
    "\n",
    "#sort the data by decades and make places for the average value for decades\n",
    "art6_scale=art6_scale.sort_values(by='decades').reset_index().drop('index',axis=1)\n",
    "art6_scale=art6_scale.reindex([2,3,4,5,0,1]).reset_index().drop('index',axis=1)\n",
    "art6_scale.index = [0,2,4,6,8,10]\n",
    "\n",
    "#Calualte the average of numeric value for different decades\n",
    "avg_df = data.groupby('decades')['acousticness','danceability','energy','loudness','tempo','valence'].mean().reset_index()\n",
    "avg_df=avg_df.drop(avg_df.index[2:6])\n",
    "avg_df['artists'] = 'average'\n",
    "avg_df = avg_df[['acousticness','danceability','energy','loudness','tempo','valence','artists','decades']].reset_index().drop('index',axis=1)\n",
    "\n",
    "#Reindex the average and combine them into the artist df\n",
    "avg_df = avg_df.reindex([2,3,4,5,0,1]).reset_index().drop('index',axis=1)\n",
    "scaler.fit(artist[['acousticness','danceability','energy','loudness','tempo','valence']])\n",
    "avg_df_scale = pd.DataFrame(scaler.transform(avg_df[['acousticness','danceability','energy','loudness','tempo','valence']]))\n",
    "avg_df_scale.columns = ['acousticness','danceability','energy','loudness','tempo','valence']\n",
    "avg_df_scale[['artists','decades']]=avg_df[['artists','decades']]\n",
    "avg_df_scale.index = [1,3,5,7,9,11]\n",
    "art6_scale=pd.concat([art6_scale,avg_df_scale],axis=0)\n",
    "art6_scale.sort_index(inplace=True)\n",
    "\n",
    "# ------- PART 1: Define a function that do a plot for one line of the dataset!\n",
    " \n",
    "def make_spider( row, title, color):\n",
    "\n",
    "    # number of variable\n",
    "    categories=list(art6_scale)[:-2]\n",
    "    N = len(categories)\n",
    "\n",
    "    # What will be the angle of each axis in the plot? (we divide the plot / number of variable)\n",
    "    angles = [n / float(N) * 2 * pi for n in range(N)]\n",
    "    angles += angles[:1]\n",
    "\n",
    "    # Initialise the spider plot\n",
    "    ax = plt.subplot(2,3,ind, polar=True, )\n",
    "\n",
    "    # If you want the first axis to be on top:\n",
    "    ax.set_theta_offset(pi / 2)\n",
    "    ax.set_theta_direction(-1)\n",
    "\n",
    "    # Draw one axe per variable + add labels labels yet\n",
    "    plt.xticks(angles[:-1], categories, color='grey', size=8)\n",
    "\n",
    "    # Draw ylabels\n",
    "    ax.set_rlabel_position(0)\n",
    "    plt.yticks([0.2,0.4,0.6,0.8], [\"0.2\",\"0.4\",\"0.6\",\"0.8\"], color=\"grey\", size=7)\n",
    "    plt.ylim(0,1)\n",
    "\n",
    "    # Ind1\n",
    "    values=art6_scale.loc[row].drop(['artists','decades']).values.flatten().tolist()\n",
    "    values += values[:1]\n",
    "    avg_values = art6_scale.loc[row+1].drop(['artists','decades']).values.flatten().tolist()\n",
    "    avg_values+=avg_values[:1]\n",
    "    ax.plot(angles, avg_values, color='grey', linewidth=0, linestyle='solid')\n",
    "    ax.plot(angles, values, color=color, linewidth=2, linestyle='solid')\n",
    "    ax.fill(angles, values, color=color, alpha=0.8)\n",
    "    ax.fill(angles, avg_values, color='grey', alpha=0.6)\n",
    "\n",
    "    # Add a title\n",
    "    plt.title(title, size=11, color=color, y=1.1)\n",
    "\n",
    "    \n",
    "# ------- PART 2: Apply the function to all individuals\n",
    "# initialize the figure\n",
    "my_dpi=96\n",
    "plt.figure(figsize=(1200/my_dpi, 1200/my_dpi), dpi=my_dpi)\n",
    " \n",
    "# Create a color palette:\n",
    "my_palette = plt.cm.get_cmap(\"Set1\")\n",
    " \n",
    "# Loop to plot\n",
    "ind = 0\n",
    "for row in range(0, len(art6_scale.index),2):\n",
    "    ind +=1\n",
    "    make_spider( row=row, title=art6_scale['decades'][row]+':'+'\\n'+art6_scale['artists'][row], color=my_palette(ind))"
   ]
  },
  {
   "cell_type": "markdown",
   "metadata": {},
   "source": [
    "Map and convert the key and mode"
   ]
  },
  {
   "cell_type": "code",
   "execution_count": null,
   "metadata": {},
   "outputs": [],
   "source": [
    "key_mapping = {0:\"C\",1:\"C♯\",2:\"D\",3:\"D♯\",4:\"E\",5:\"F\",6:\"F♯\",7:\"G\",8:\"G♯\",9:\"A\",10:\"A♯\",11:\"B\"}\n",
    "mode_mapping = {0:\"Minor\",1:\"Major\"}\n",
    "key_name = data.key.map(key_mapping)\n",
    "mode_name= data['mode'].map(mode_mapping)\n",
    "data['key_mode'] = key_name+' '+mode_name\n",
    "data[['name','key','mode','key_mode']]"
   ]
  },
  {
   "cell_type": "code",
   "execution_count": null,
   "metadata": {},
   "outputs": [],
   "source": [
    "#Count the number of Key used\n",
    "key_count = pd.DataFrame(data.key_mode.value_counts()).reset_index()\n",
    "key_count.columns=['key_name','counts']\n",
    "\n",
    "#recoder and reformat the key counts by years\n",
    "column_list = key_count['key_name'].values\n",
    "ani_bar_df = data.groupby('year')['key_mode'].value_counts().unstack().reset_index()\n",
    "ani_bar_df_cum = ani_bar_df.cumsum()\n",
    "ani_bar_df_cum['year']=ani_bar_df['year']\n",
    "ani_bar_df_cum.set_index('year',inplace=True)\n",
    "ani_bar_df_cum=ani_bar_df_cum[column_list]\n",
    "\n",
    "#prepare the dat for animation\n",
    "def prepare_data(df, steps=5):\n",
    "    df = df.reset_index()\n",
    "    df.index = df.index * steps\n",
    "    last_idx = df.index[-1] + 1\n",
    "    df_expanded = df.reindex(range(last_idx))\n",
    "    df_expanded['year'] = df_expanded['year'].fillna(method='ffill')\n",
    "    df_expanded = df_expanded.set_index('year')\n",
    "    df_rank_expanded = df_expanded.rank(axis=1, method='first')\n",
    "    df_expanded = df_expanded.interpolate()\n",
    "    df_rank_expanded = df_rank_expanded.interpolate()\n",
    "    return df_expanded, df_rank_expanded\n",
    "\n",
    "df_expanded, df_rank_expanded = prepare_data(ani_bar_df_cum)\n",
    "\n",
    "#draw a race chart\n",
    "def nice_axes(ax):\n",
    "    ax.set_facecolor('.8')\n",
    "    ax.tick_params(labelsize=20, length=0)\n",
    "    ax.grid(True, axis='x', color='white')\n",
    "    ax.set_axisbelow(True)\n",
    "    [spine.set_visible(False) for spine in ax.spines.values()]\n",
    "    \n",
    "def init():\n",
    "    ax.clear()\n",
    "    nice_axes(ax)\n",
    "    ax.set_ylim(.2, 6.8)\n",
    "colors = plt.cm.Paired(range(12))\n",
    "labels = df_expanded.columns\n",
    "def update(i):\n",
    "    for bar in ax.containers:\n",
    "        bar.remove()\n",
    "    y = df_rank_expanded.iloc[i]\n",
    "    width = df_expanded.iloc[i]\n",
    "    ax.barh(y=y, width=width, color=colors, tick_label=labels)\n",
    "    date_str = round(df_expanded.index[i])\n",
    "    ax.set_title(date_str,x=0.7, y=0.3, fontsize=100)\n",
    "    \n",
    "fig = plt.Figure(figsize=(20, 10), dpi=144)\n",
    "ax = fig.add_subplot()\n",
    "anim = FuncAnimation(fig=fig, func=update, init_func=init, frames=len(df_expanded), \n",
    "                     interval=100, repeat=False)\n",
    "HTML(anim.to_jshtml())"
   ]
  },
  {
   "cell_type": "code",
   "execution_count": null,
   "metadata": {},
   "outputs": [],
   "source": [
    "#anim.save('animation.mp4', writer='imagemagick')"
   ]
  },
  {
   "cell_type": "code",
   "execution_count": null,
   "metadata": {},
   "outputs": [],
   "source": [
    "matplotlib.matplotlib_fname()"
   ]
  },
  {
   "cell_type": "code",
   "execution_count": null,
   "metadata": {},
   "outputs": [],
   "source": [
    "#get the most popular track for each key\n",
    "data_key_rank = data.copy()\n",
    "data_key_rank['rank']=data.groupby('key_mode')['popularity'].rank(method='first',ascending=False)\n",
    "data_key_rank[data_key_rank['rank']==1]\n",
    "data_key_rank['song_artist'] =data_key_rank.name + ' '+'-'+' '+ data_key_rank.artists.str.strip('[\\'\\\"]')\n",
    "data_key_rank = data_key_rank[data_key_rank['rank']==1]\n",
    "\n",
    "#merge with key counts to show number of tracks with each key\n",
    "bar_df = pd.merge(key_count,data_key_rank, left_on='key_name',right_on='key_mode')\n",
    "bar_df = bar_df[['key_name','counts','song_artist']]\n",
    "\n",
    "#reduce the lenth of artist and tracks name\n",
    "bar_df = pd.merge(key_count,data_key_rank, left_on='key_name',right_on='key_mode')\n",
    "bar_df = bar_df[['key_name','counts','song_artist']]\n",
    "bar_df.loc[bar_df.key_name=='C♯ Major','song_artist'] = 'WAP - Cardi B'\n",
    "bar_df.loc[bar_df.key_name=='G Major','song_artist'] = 'LA NOCHE DE ANOCHE - Bad Bunny'\n",
    "bar_df.loc[bar_df.key_name=='G♯ Major','song_artist'] = 'Head & Heart - Joel Corry'\n",
    "bar_df.loc[bar_df.key_name=='F♯ Major','song_artist'] = 'Holy - Justin Bieber'\n",
    "bar_df.loc[bar_df.key_name=='B Major','song_artist'] = 'ROCKSTAR - DaBaby'\n",
    "bar_df.loc[bar_df.key_name=='F♯ Minor','song_artist'] = 'For The Night - Lil Baby'\n",
    "bar_df.loc[bar_df.key_name=='D Minor','song_artist'] = 'Monster - Shawn Mendes'\n",
    "bar_df.loc[bar_df.key_name=='G Minor','song_artist'] = 'Mood - 24kGoldn'\n",
    "bar_df.loc[bar_df.key_name=='C Minor','song_artist'] = 'Chica Ideal - Sebastian Yatra'\n",
    "\n",
    "# Reorder the dataframe\n",
    "df = bar_df.sort_values(by=['counts'])\n",
    "\n",
    "# initialize the figure\n",
    "plt.figure(figsize=(20,10))\n",
    "ax = plt.subplot(111, polar=True)\n",
    "plt.axis('off')\n",
    "\n",
    "# Constants = parameters controling the plot layout:\n",
    "upperLimit = 100\n",
    "lowerLimit = 30\n",
    "labelPadding = 4\n",
    "\n",
    "# Compute max and min in the dataset\n",
    "max = df['counts'].max()\n",
    "\n",
    "# Let's compute heights: they are a conversion of each item value in those new coordinates\n",
    "# In our example, 0 in the dataset will be converted to the lowerLimit (10)\n",
    "# The maximum will be converted to the upperLimit (100)\n",
    "slope = (max - lowerLimit) / max\n",
    "heights = slope * df.counts + lowerLimit\n",
    "\n",
    "# Compute the width of each bar. In total we have 2*Pi = 360°\n",
    "width = 2*np.pi / len(df.index)\n",
    "\n",
    "# Compute the angle each bar is centered on:\n",
    "indexes = list(range(1, len(df.index)+1))\n",
    "angles = [element * width for element in indexes]\n",
    "angles\n",
    "\n",
    "# Draw bars\n",
    "bars = ax.bar(\n",
    "    x=angles, \n",
    "    height=heights, \n",
    "    width=width, \n",
    "    bottom=lowerLimit,\n",
    "    linewidth=2, \n",
    "    edgecolor=\"white\",\n",
    "    color=\"#61a4b2\"\n",
    ")\n",
    "\n",
    "# Add labels\n",
    "for bar, angle, height, label in zip(bars,angles, heights, df[\"key_name\"]+ ':'+' ' +df['song_artist']):\n",
    "\n",
    "    # Labels are rotated. Rotation must be specified in degrees :(\n",
    "    rotation = np.rad2deg(angle)\n",
    "\n",
    "    # Flip some labels upside down\n",
    "    alignment = \"\"\n",
    "    if angle >= np.pi/2 and angle < 3*np.pi/2:\n",
    "        alignment = \"right\"\n",
    "        rotation = rotation + 180\n",
    "    else: \n",
    "        alignment = \"left\"\n",
    "\n",
    "    # Finally add the labels\n",
    "    ax.text(\n",
    "        x=angle, \n",
    "        y=lowerLimit + bar.get_height() + labelPadding, \n",
    "        s=label, \n",
    "        ha=alignment, \n",
    "        va='center', \n",
    "        rotation=rotation, \n",
    "        rotation_mode=\"anchor\") "
   ]
  },
  {
   "cell_type": "code",
   "execution_count": null,
   "metadata": {},
   "outputs": [],
   "source": []
  }
 ],
 "metadata": {
  "kernelspec": {
   "display_name": "Python 3",
   "language": "python",
   "name": "python3"
  },
  "language_info": {
   "codemirror_mode": {
    "name": "ipython",
    "version": 3
   },
   "file_extension": ".py",
   "mimetype": "text/x-python",
   "name": "python",
   "nbconvert_exporter": "python",
   "pygments_lexer": "ipython3",
   "version": "3.7.6"
  }
 },
 "nbformat": 4,
 "nbformat_minor": 4
}
